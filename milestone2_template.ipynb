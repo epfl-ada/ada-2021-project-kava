{
 "cells": [
  {
   "cell_type": "markdown",
   "metadata": {},
   "source": [
    "# MILESTONE 2"
   ]
  },
  {
   "cell_type": "markdown",
   "metadata": {},
   "source": [
    "`File name:` milestone2.py\n",
    "\n",
    "`Authors:`\n",
    "- Víctor González\n",
    "- Alvaro Bautista \n",
    "- Alicia Soria \n",
    "- Kamil Czerniak\n",
    "\n",
    "`Date created:` 05/11/2021\n",
    "\n",
    "`Date last modified:` 12/11/2021\n",
    "\n",
    "`Python Version:` 3.9.2\n"
   ]
  },
  {
   "cell_type": "markdown",
   "metadata": {},
   "source": [
    "---"
   ]
  },
  {
   "cell_type": "markdown",
   "metadata": {},
   "source": [
    "## Table of contents\n",
    "\n",
    "**1. INTRODUCTION**\n",
    "   * Context\n",
    "   * Project idea\n",
    "   * Project goals\n",
    "   * Motivation\n",
    "   * Feasibility\n",
    "   \n",
    "   \n",
    "   \n",
    "**2. THE DATA**\n",
    "   * Quotebank\n",
    "   * External data\n",
    "    \n",
    "    \n",
    "    \n",
    "**3. PIPELINE**\n",
    "   * Load data\n",
    "   * Examine our data\n",
    "   * Clean up data\n",
    "   * Modeling\n",
    "   * Interpreting\n",
    "   * Storytelling and communication\n",
    "    \n",
    "    \n",
    "    \n",
    "**4. CONCLUSIONS**\n",
    "   * Summary\n",
    "   * Results\n",
    "   * Problems encountered\n",
    "    \n",
    "    \n",
    "    \n",
    "**5. FUTURE LINES**"
   ]
  },
  {
   "cell_type": "markdown",
   "metadata": {},
   "source": [
    "---"
   ]
  },
  {
   "cell_type": "markdown",
   "metadata": {},
   "source": [
    "# 1. Introduction"
   ]
  },
  {
   "cell_type": "markdown",
   "metadata": {},
   "source": [
    "### 1.1. Context"
   ]
  },
  {
   "cell_type": "markdown",
   "metadata": {},
   "source": [
    "# Brief introduction\n",
    "Welcome Milestone 2 Python notebook.\n",
    "In this notebook we will answer several research questions surrounding the Breixit event.\n",
    "We will employ the Quotebank dataset mainly, as well as additional databases to enrich the data and obtain more\n",
    "complete conclusions."
   ]
  },
  {
   "cell_type": "markdown",
   "metadata": {},
   "source": [
    "### 1.2. Project idea\n"
   ]
  },
  {
   "cell_type": "markdown",
   "metadata": {},
   "source": [
    "# Explain in clear, reasonable, and thorough way the project idea\n",
    "Pinpoint and determine the arguments for and against Breixit in different social groups"
   ]
  },
  {
   "cell_type": "markdown",
   "metadata": {},
   "source": [
    "### 1.3. Project goals"
   ]
  },
  {
   "cell_type": "markdown",
   "metadata": {},
   "source": [
    "# Clear project goals"
   ]
  },
  {
   "cell_type": "code",
   "execution_count": null,
   "metadata": {},
   "outputs": [],
   "source": []
  },
  {
   "cell_type": "markdown",
   "metadata": {},
   "source": [
    "### 1.4. Motivation\n"
   ]
  },
  {
   "cell_type": "code",
   "execution_count": 1,
   "metadata": {},
   "outputs": [],
   "source": [
    "# What story do we want to tell, why?\n",
    "# Critical awareness of the project (social, cultural, political, economic, education. ... impact)"
   ]
  },
  {
   "cell_type": "markdown",
   "metadata": {},
   "source": [
    "### 1.5. Feasibility"
   ]
  },
  {
   "cell_type": "code",
   "execution_count": 2,
   "metadata": {},
   "outputs": [],
   "source": [
    "# Justify feasibility given the data"
   ]
  },
  {
   "cell_type": "markdown",
   "metadata": {},
   "source": [
    "---"
   ]
  },
  {
   "cell_type": "markdown",
   "metadata": {},
   "source": [
    "# 2. The data"
   ]
  },
  {
   "cell_type": "markdown",
   "metadata": {},
   "source": [
    "## 2.1. Quotebank"
   ]
  },
  {
   "cell_type": "markdown",
   "metadata": {},
   "source": [
    "This data source is described best by its makers:\n",
    "\n",
    ">Quotebank is a dataset of 178 million unique, speaker-attributed quotations that were extracted from 196 million English news articles crawled from over 377 thousand web domains between August 2008 and April 2020. The quotations were extracted and attributed using Quobert, a distantly and minimally supervised end-to-end, language-agnostic framework for quotation attribution.\n",
    "\n",
    "(*Vaucher, Timoté, Spitz, Andreas, Catasta, Michele, & West, Robert. (2021). Quotebank: A Corpus of Quotations from a Decade of News (1.0) [Data set]. Zenodo. https://doi.org/10.5281/zenodo.4277311 (accessible on November 10, 2021)*)"
   ]
  },
  {
   "cell_type": "markdown",
   "metadata": {},
   "source": [
    "In our case, we will use data collected between January 2015 and April 2020. We decided to put the start date in 2015, as this was the year of General Election in the United Kingdom, where the Conservative Party (which won the majority in the House of Commons) has put a promise of an in-out referendum in its manifesto:\n",
    "\n",
    ">We will negotiate new rules with the EU, so that people will have to be earning here for a number of years before they can claim benefits, including the tax credits that top up low wages. Instead of something-fornothing, we will build a system based on the principle of something-for-something. We will then put these changes to the British people in a straight in-out referendum on our membership of the European Union by the end of 2017.\n",
    "\n",
    "(*The Conservative Party Manifesto 2015, http://ucrel.lancs.ac.uk/wmatrix/ukmanifestos2015/localpdf/Conservatives.pdf (accessible on November 10, 2021)*)\n",
    "\n",
    "The data source is based on this paper: Timoté Vaucher, Andreas Spitz, Michele Catasta, and Robert West\n",
    "\n",
    "\"Quotebank: A Corpus of Quotations from a Decade of News\"\n",
    "\n",
    "Proceedings of the 14th International ACM Conference on Web Search and Data Mining (WSDM), 2021.\n",
    "\n",
    "*https://doi.org/10.1145/3437963.3441760*"
   ]
  },
  {
   "cell_type": "markdown",
   "metadata": {},
   "source": [
    "## Description of the data\n",
    "- `quoteID:` Primary key of the quotation (format: \"YYYY-MM-DD-{increasing int:06d}\")\n",
    "- `quotation:` Text of the longest encountered original form of the quotation\n",
    "- `date:` Earliest occurrence date of any version of the quotation\n",
    "- `phase:` Corresponding phase of the data in which the quotation first occurred (A-E)\n",
    "- `probas:` Array representing the probabilities of each speaker having uttered the quotation. The probabilities across different occurrences of the same quotation are summed for each distinct candidate speaker and then normalized\n",
    " - `proba:` Probability for a given speaker\n",
    " - `speaker:` Most frequent surface form for a given speaker in the articles where the quotation occurred\n",
    "- `speaker:` Selected most likely speaker. This matches the the first speaker entry in `probas`\n",
    "- `qids:` Wikidata IDs of all aliases that match the selected speaker\n",
    "- `numOccurrences:` Number of time this quotation occurs in the articles\n",
    "- `urls:` List of links to the original articles containing the quotation "
   ]
  },
  {
   "cell_type": "markdown",
   "metadata": {},
   "source": [
    "### 2.2. External data"
   ]
  },
  {
   "cell_type": "markdown",
   "metadata": {},
   "source": [
    "In order to get more context behind the speakers, we opted to use Wikidata dataset. This dataset, meant primarily for use in Wikimedia projects like Wikipedia or Wiktionary, contains properties and references describing an item, e.g., a person or a country. Because Quotebank uses Wikidata QIDs to refer to speakers, we can easily link persons to their attributes in Wikidata. \n",
    "\n",
    "Wikidata entries can contain an infinite number of attributes and references, so we have decided to use only a small number of attributes, which we can then use for demographic analysis. These attributes are:\n",
    "- gender\n",
    "- date of birth\n",
    "- nationality\n",
    "- occupation\n",
    "- political party\n",
    "- academic degree\n",
    "- what political offices a person candidated for\n",
    "- religion\n",
    "\n",
    "All of these attributes are capable of containing multiple values (e.g., the entry for Angela Merkel marks her nationality as German and East German). \n",
    "\n",
    "This dataset, in its entirety, may have a size of about 100 GB, which is why we decided to use a subset provided by the course (named *speaker_attributes.parquet*). This subset contains these attributes (and a couple more that we opted not to use) for all speakers featured in Quotebank. In addition, we were provided with labels of all Wikidata entries used in the mentioned subset (*wikidata_labels_descriptions_quotebank.csv.bz2*), in order to dereference non-speaker attributes (like gender) more easily. \n",
    "\n",
    "#### References\n",
    "- Wikidata website: https://www.wikidata.org/wiki/Wikidata:Main_Page\n",
    "- Google Drive directory with preprocessed Wikidata dataset: https://drive.google.com/drive/folders/1VAFHacZFh0oxSxilgNByb1nlNsqznUf0"
   ]
  },
  {
   "cell_type": "markdown",
   "metadata": {},
   "source": [
    "---"
   ]
  },
  {
   "cell_type": "markdown",
   "metadata": {},
   "source": [
    "# 3. Pipeline"
   ]
  },
  {
   "cell_type": "markdown",
   "metadata": {},
   "source": [
    "**3.1) LOAD DATA AND FILTERING**\n",
    "- Load data \n",
    "- Filter by Breixit quotes\n",
    "\n",
    "**3.2) EXAMINE AND GENERIC CLEAN UP**\n",
    "- Formats, shapes and data types\n",
    "- Reading samples of quotes\n",
    "- Duplicate values\n",
    "    - Drop duplicates\n",
    "- Missing values\n",
    "    - In Quotebank\n",
    "    - In Speakers_attributes\n",
    "    - Remove empty quotes (quotebank)\n",
    "    - Fill empty aliases with labels (speakers_attributes)\n",
    "- Inconsistent and incorrect values\n",
    "    - Find more than one qid for each speaker (indicate uncertainity)\n",
    "    - Find more than one probas for each speaker (indicate uncertainity)\n",
    "    - Get only first qid for each speaker\n",
    "    - Missing speakers are associated with their second value in probas if > 40% prob\n",
    "    - Add qid for the associated ones (use speakers_attributes.parquet)\n",
    "    - Drop rows without found id\n",
    "\n",
    "\n",
    "**3.3) EXPAND QUOTEBANK WITH WIKIDATA DUMPS, DEEP CLEANING, EXPLORATION**\n",
    "- Merge with wikidata\n",
    "- NLP cleaning\n",
    "- Extracting summary statistics, distributions, correlations between columns\n",
    "- First model approximation of linear regression\n",
    "- Justify feasibility of data\n"
   ]
  },
  {
   "cell_type": "markdown",
   "metadata": {},
   "source": [
    "**SOME COMMENTS**\n",
    "\n",
    "We encourage you to use Google Colab for executing this part of notebook - Google Colab has support for Google Drive, which in turn has support for linking to external folders, allowing us to use larger datasets without losing space capacity on our accounts. In addition, step 3 relies on loading speaker attributes to memory before handling them - this requires ~6 GB of RAM, which could be an issue on computers with 8 GB of RAM or less.\n",
    "\n",
    "Each step will generate its own output files, for each year, to limit the strain on following steps and allow analysis of what was removed in each step by comparing pre-step data.\n",
    "\n",
    "We start by importing libraries that will be used in the pipeline. We also define years to be considered - this will be used to load files for each year and save the output."
   ]
  },
  {
   "cell_type": "code",
   "execution_count": 3,
   "metadata": {},
   "outputs": [
    {
     "name": "stdout",
     "output_type": "stream",
     "text": [
      "Finished imports\n"
     ]
    },
    {
     "name": "stderr",
     "output_type": "stream",
     "text": [
      "[nltk_data] Downloading package stopwords to\n",
      "[nltk_data]     /Users/victorgonzalez/nltk_data...\n",
      "[nltk_data]   Package stopwords is already up-to-date!\n",
      "[nltk_data] Downloading package punkt to\n",
      "[nltk_data]     /Users/victorgonzalez/nltk_data...\n",
      "[nltk_data]   Package punkt is already up-to-date!\n",
      "[nltk_data] Downloading package wordnet to\n",
      "[nltk_data]     /Users/victorgonzalez/nltk_data...\n",
      "[nltk_data]   Package wordnet is already up-to-date!\n"
     ]
    }
   ],
   "source": [
    "#Import packages\n",
    "import re, json, bz2\n",
    "import pandas as pd\n",
    "import numpy as np\n",
    "import pandas as pd\n",
    "import seaborn as sns\n",
    "import matplotlib.pyplot as plt\n",
    "%matplotlib inline\n",
    "import re, string\n",
    "import nltk\n",
    "nltk.download('stopwords')\n",
    "nltk.download('punkt')\n",
    "nltk.download('wordnet')\n",
    "from nltk.corpus import stopwords\n",
    "from nltk.stem import WordNetLemmatizer \n",
    "from textblob import TextBlob\n",
    "sw = stopwords.words('english')\n",
    "import collections\n",
    "from collections import Counter\n",
    "\n",
    "print('Finished imports')"
   ]
  },
  {
   "cell_type": "markdown",
   "metadata": {},
   "source": [
    "---"
   ]
  },
  {
   "cell_type": "markdown",
   "metadata": {},
   "source": [
    "## 3.1. Load data and filtering\n",
    "- Load data \n",
    "- Filter by Brexit quotes"
   ]
  },
  {
   "cell_type": "markdown",
   "metadata": {},
   "source": [
    "The first step removes quotes that are not mentioning Brexit and as such are irrelevant to our analysis. We do this by using a regular expression that matches quotes that either contain the phrase \"Brexit\" or the combination of \"leave\", \"leaving\", \"exit\", \"exiting\" and \"EU\" or \"European Union\". We use a streaming approach used [here](https://colab.research.google.com/drive/1NqLFrAWAzKxr2dAWHI7m6Ml3gWGF72cA) in order to reduce the strain on RAM usage (each datasource file is approx. 2 GB in size).\n",
    "\n",
    "**Input:** Compressed JSON file with quotes from Quotebank from given year, e.g., `quotes-{year}.json.bz2`\n",
    "\n",
    "**Output:** Compressed JSON file with quotes mentioning Brexit from Quotebank from given year, e.g., `quotes-{year}-step1.json.bz2`\n",
    "\n",
    "**NOTE**: due to large number of quotes, this step can take long time - possibly over an hour. You have been warned."
   ]
  },
  {
   "cell_type": "markdown",
   "metadata": {},
   "source": [
    "1) Load data from json and remove quotations without Breixit incidences"
   ]
  },
  {
   "cell_type": "code",
   "execution_count": 4,
   "metadata": {},
   "outputs": [],
   "source": [
    "# # Step 1: only keep quotes that contain phrases: Brexit OR ((leaving OR leave OR exiting OR exit) AND (EU or European Union))\n",
    "\n",
    "# regex_text = \"(brexit)|((leave|leaving|exit|exiting).*(\\W+eu\\W+|\\W+european union))\"\n",
    "# regex = re.compile(regex_text, re.IGNORECASE)\n",
    "\n",
    "# for year in YEARS:\n",
    "#     path_to_file = f'data/quotes-{year}.json.bz2' \n",
    "#     path_to_out = f'data/quotes-{year}-step1.json.bz2'\n",
    "\n",
    "#     with bz2.open(path_to_file, 'rb') as s_file:\n",
    "#         with bz2.open(path_to_out, 'wb') as d_file:\n",
    "#             for instance in s_file:\n",
    "#                 instance = json.loads(instance) # loading a sample\n",
    "#                 quotation = instance['quotation'] + \" \" # extracting quotation, space needed to match EU at the end of a sentence\n",
    "#                 if(regex.match(quotation) is not None):\n",
    "#                     d_file.write((json.dumps(instance)+'\\n').encode('utf-8')) # writing in a new file"
   ]
  },
  {
   "cell_type": "markdown",
   "metadata": {},
   "source": [
    "2) Charge json files into dataframes"
   ]
  },
  {
   "cell_type": "code",
   "execution_count": 5,
   "metadata": {},
   "outputs": [],
   "source": [
    "YEARS = [\"2015\", \"2016\", \"2017\", \"2018\", \"2019\", \"2020\"]\n",
    "df_2015_step1 = pd.read_json('./data/quotes-2015-step1.json.bz2', compression='bz2', lines=True)\n",
    "df_2016_step1 = pd.read_json('./data/quotes-2016-step1.json.bz2', compression='bz2', lines=True)\n",
    "df_2017_step1 = pd.read_json('./data/quotes-2017-step1.json.bz2', compression='bz2', lines=True)\n",
    "df_2018_step1 = pd.read_json('./data/quotes-2018-step1.json.bz2', compression='bz2', lines=True)\n",
    "df_2019_step1 = pd.read_json('./data/quotes-2019-step1.json.bz2', compression='bz2', lines=True)\n",
    "df_2020_step1 = pd.read_json('./data/quotes-2020-step1.json.bz2', compression='bz2', lines=True)\n",
    "df_speaker_attributes = pd.read_parquet('./data/speaker_attributes.parquet')"
   ]
  },
  {
   "cell_type": "markdown",
   "metadata": {},
   "source": [
    "3) Add a new column in the dataframe with the year of the quotation"
   ]
  },
  {
   "cell_type": "code",
   "execution_count": 6,
   "metadata": {},
   "outputs": [
    {
     "data": {
      "text/html": [
       "<div>\n",
       "<style scoped>\n",
       "    .dataframe tbody tr th:only-of-type {\n",
       "        vertical-align: middle;\n",
       "    }\n",
       "\n",
       "    .dataframe tbody tr th {\n",
       "        vertical-align: top;\n",
       "    }\n",
       "\n",
       "    .dataframe thead th {\n",
       "        text-align: right;\n",
       "    }\n",
       "</style>\n",
       "<table border=\"1\" class=\"dataframe\">\n",
       "  <thead>\n",
       "    <tr style=\"text-align: right;\">\n",
       "      <th></th>\n",
       "      <th>quoteID</th>\n",
       "      <th>quotation</th>\n",
       "      <th>speaker</th>\n",
       "      <th>qids</th>\n",
       "      <th>date</th>\n",
       "      <th>numOccurrences</th>\n",
       "      <th>probas</th>\n",
       "      <th>urls</th>\n",
       "      <th>phase</th>\n",
       "      <th>year</th>\n",
       "    </tr>\n",
       "  </thead>\n",
       "  <tbody>\n",
       "    <tr>\n",
       "      <th>0</th>\n",
       "      <td>2015-05-20-006834</td>\n",
       "      <td>Brexit is a big risk because we are more depen...</td>\n",
       "      <td>None</td>\n",
       "      <td>[]</td>\n",
       "      <td>2015-05-20 20:17:06</td>\n",
       "      <td>2</td>\n",
       "      <td>[[None, 0.8754], [George Osborne, 0.1246]]</td>\n",
       "      <td>[http://cnbc.com/id/102687026?trknav=homestack...</td>\n",
       "      <td>E</td>\n",
       "      <td>2015</td>\n",
       "    </tr>\n",
       "    <tr>\n",
       "      <th>1</th>\n",
       "      <td>2015-11-14-006404</td>\n",
       "      <td>Brexit isn't in Ireland's economic interest,</td>\n",
       "      <td>Enda Kenny</td>\n",
       "      <td>[Q5375903, Q57815]</td>\n",
       "      <td>2015-11-14 02:32:37</td>\n",
       "      <td>1</td>\n",
       "      <td>[[Enda Kenny, 0.9055], [None, 0.0945]]</td>\n",
       "      <td>[http://www.independent.ie/opinion/comment/no-...</td>\n",
       "      <td>E</td>\n",
       "      <td>2015</td>\n",
       "    </tr>\n",
       "  </tbody>\n",
       "</table>\n",
       "</div>"
      ],
      "text/plain": [
       "             quoteID                                          quotation  \\\n",
       "0  2015-05-20-006834  Brexit is a big risk because we are more depen...   \n",
       "1  2015-11-14-006404       Brexit isn't in Ireland's economic interest,   \n",
       "\n",
       "      speaker                qids                date  numOccurrences  \\\n",
       "0        None                  [] 2015-05-20 20:17:06               2   \n",
       "1  Enda Kenny  [Q5375903, Q57815] 2015-11-14 02:32:37               1   \n",
       "\n",
       "                                       probas  \\\n",
       "0  [[None, 0.8754], [George Osborne, 0.1246]]   \n",
       "1      [[Enda Kenny, 0.9055], [None, 0.0945]]   \n",
       "\n",
       "                                                urls phase  year  \n",
       "0  [http://cnbc.com/id/102687026?trknav=homestack...     E  2015  \n",
       "1  [http://www.independent.ie/opinion/comment/no-...     E  2015  "
      ]
     },
     "execution_count": 6,
     "metadata": {},
     "output_type": "execute_result"
    }
   ],
   "source": [
    "df_2015_step1['year'] = 2015\n",
    "df_2016_step1['year'] = 2016\n",
    "df_2017_step1['year'] = 2017\n",
    "df_2018_step1['year'] = 2018\n",
    "df_2019_step1['year'] = 2019\n",
    "df_2020_step1['year'] = 2020\n",
    "df_step2 = df_2015_step1.append(df_2016_step1, ignore_index=True)\n",
    "df_step2 = df_step2.append(df_2017_step1, ignore_index=True)\n",
    "df_step2 = df_step2.append(df_2018_step1, ignore_index=True)\n",
    "df_step2 = df_step2.append(df_2019_step1, ignore_index=True)\n",
    "df_step2 = df_step2.append(df_2020_step1, ignore_index=True)\n",
    "df_step2.head(2)"
   ]
  },
  {
   "cell_type": "markdown",
   "metadata": {},
   "source": [
    "---"
   ]
  },
  {
   "cell_type": "markdown",
   "metadata": {},
   "source": [
    "## 3.2. Examination and generic clean-up "
   ]
  },
  {
   "cell_type": "markdown",
   "metadata": {},
   "source": [
    "- Formats, shapes and data types\n",
    "- Reading samples of quotes\n",
    "- Duplicate values\n",
    "    - Drop duplicates\n",
    "- Missing values\n",
    "    - In Quotebank\n",
    "    - In Speakers_attributes\n",
    "    - Remove empty quotes (quotebank)\n",
    "    - Fill empty aliases with labels (speakers_attributes)\n",
    "- Inconsistent and incorrect values\n",
    "    - Find more than one qid for each speaker (indicate uncertainity)\n",
    "    - Find more than one probas for each speaker (indicate uncertainity)\n",
    "    - Get only first qid for each speaker\n",
    "    - Missing speakers are associated with their second value in probas if > 40% prob\n",
    "    - Add qid for the associated ones (use speakers_attributes.parquet)\n",
    "    - Drop rows without found id\n",
    "\n"
   ]
  },
  {
   "cell_type": "markdown",
   "metadata": {},
   "source": [
    "In this step, we will firstly analyze the formats, shapes and data types present in the database. \n",
    "Secondly, we observe a sample row of the database, the duplicate values, which we then drop, and the missing values in the quotes in certain rows which we then get rid of. Parallely, in the speakers_attributes dataset, the empty aliases are filled with the 'label' value. \n",
    "Thirdly, we observe the inconsistent or incorrect values which indicate uncertainity, such as having several qids for the same speaker or displaying several speaker probabilities for the same quote. \n",
    "In order to tackle these inconsistent or uncertain values, only the first qid is chosen for each speaker in Quotebank. Additionally, the quotes that do not have a speaker associated are given the speaker with the second highest probability as long as it is higher than a threshold, and their associated qid is found in the speakers_attributes dataset. Some qids are not found, so those rows are dropped.\n",
    "\n",
    "**References:** NLP and Opinion Mining in Python. Sentiment Analysis of the Rayshard Brooks Shooting (François St-Amant, Jun 2020)"
   ]
  },
  {
   "cell_type": "markdown",
   "metadata": {},
   "source": [
    "1) Analyze formats, shapes and data types present in the database"
   ]
  },
  {
   "cell_type": "code",
   "execution_count": 7,
   "metadata": {},
   "outputs": [
    {
     "name": "stdout",
     "output_type": "stream",
     "text": [
      "\u001b[1m Quotebank \n",
      "\n",
      "<class 'pandas.core.frame.DataFrame'>\n",
      "RangeIndex: 7124 entries, 0 to 7123\n",
      "Data columns (total 10 columns):\n",
      " #   Column          Non-Null Count  Dtype         \n",
      "---  ------          --------------  -----         \n",
      " 0   quoteID         7124 non-null   object        \n",
      " 1   quotation       7124 non-null   object        \n",
      " 2   speaker         7124 non-null   object        \n",
      " 3   qids            7124 non-null   object        \n",
      " 4   date            7124 non-null   datetime64[ns]\n",
      " 5   numOccurrences  7124 non-null   int64         \n",
      " 6   probas          7124 non-null   object        \n",
      " 7   urls            7124 non-null   object        \n",
      " 8   phase           7124 non-null   object        \n",
      " 9   year            7124 non-null   int64         \n",
      "dtypes: datetime64[ns](1), int64(2), object(7)\n",
      "memory usage: 556.7+ KB\n"
     ]
    }
   ],
   "source": [
    "print('\\033[1m','Quotebank \\n')\n",
    "df_step2.info()"
   ]
  },
  {
   "cell_type": "code",
   "execution_count": 8,
   "metadata": {},
   "outputs": [
    {
     "name": "stdout",
     "output_type": "stream",
     "text": [
      "\u001b[1m Speakers_attributes \n",
      "\n",
      "<class 'pandas.core.frame.DataFrame'>\n",
      "RangeIndex: 9055981 entries, 0 to 9055980\n",
      "Data columns (total 15 columns):\n",
      " #   Column              Dtype \n",
      "---  ------              ----- \n",
      " 0   aliases             object\n",
      " 1   date_of_birth       object\n",
      " 2   nationality         object\n",
      " 3   gender              object\n",
      " 4   lastrevid           int64 \n",
      " 5   ethnic_group        object\n",
      " 6   US_congress_bio_ID  object\n",
      " 7   occupation          object\n",
      " 8   party               object\n",
      " 9   academic_degree     object\n",
      " 10  id                  object\n",
      " 11  label               object\n",
      " 12  candidacy           object\n",
      " 13  type                object\n",
      " 14  religion            object\n",
      "dtypes: int64(1), object(14)\n",
      "memory usage: 1.0+ GB\n"
     ]
    }
   ],
   "source": [
    "print('\\033[1m','Speakers_attributes \\n')\n",
    "df_speaker_attributes.info()"
   ]
  },
  {
   "cell_type": "markdown",
   "metadata": {},
   "source": [
    "2) Reading a sample of quotes"
   ]
  },
  {
   "cell_type": "code",
   "execution_count": 9,
   "metadata": {},
   "outputs": [
    {
     "data": {
      "text/html": [
       "<div>\n",
       "<style scoped>\n",
       "    .dataframe tbody tr th:only-of-type {\n",
       "        vertical-align: middle;\n",
       "    }\n",
       "\n",
       "    .dataframe tbody tr th {\n",
       "        vertical-align: top;\n",
       "    }\n",
       "\n",
       "    .dataframe thead th {\n",
       "        text-align: right;\n",
       "    }\n",
       "</style>\n",
       "<table border=\"1\" class=\"dataframe\">\n",
       "  <thead>\n",
       "    <tr style=\"text-align: right;\">\n",
       "      <th></th>\n",
       "      <th>quoteID</th>\n",
       "      <th>quotation</th>\n",
       "      <th>speaker</th>\n",
       "      <th>qids</th>\n",
       "      <th>date</th>\n",
       "      <th>numOccurrences</th>\n",
       "      <th>probas</th>\n",
       "      <th>urls</th>\n",
       "      <th>phase</th>\n",
       "      <th>year</th>\n",
       "    </tr>\n",
       "  </thead>\n",
       "  <tbody>\n",
       "    <tr>\n",
       "      <th>0</th>\n",
       "      <td>2015-05-20-006834</td>\n",
       "      <td>Brexit is a big risk because we are more depen...</td>\n",
       "      <td>None</td>\n",
       "      <td>[]</td>\n",
       "      <td>2015-05-20 20:17:06</td>\n",
       "      <td>2</td>\n",
       "      <td>[[None, 0.8754], [George Osborne, 0.1246]]</td>\n",
       "      <td>[http://cnbc.com/id/102687026?trknav=homestack...</td>\n",
       "      <td>E</td>\n",
       "      <td>2015</td>\n",
       "    </tr>\n",
       "  </tbody>\n",
       "</table>\n",
       "</div>"
      ],
      "text/plain": [
       "             quoteID                                          quotation  \\\n",
       "0  2015-05-20-006834  Brexit is a big risk because we are more depen...   \n",
       "\n",
       "  speaker qids                date  numOccurrences  \\\n",
       "0    None   [] 2015-05-20 20:17:06               2   \n",
       "\n",
       "                                       probas  \\\n",
       "0  [[None, 0.8754], [George Osborne, 0.1246]]   \n",
       "\n",
       "                                                urls phase  year  \n",
       "0  [http://cnbc.com/id/102687026?trknav=homestack...     E  2015  "
      ]
     },
     "execution_count": 9,
     "metadata": {},
     "output_type": "execute_result"
    }
   ],
   "source": [
    "df_step2.head(1)"
   ]
  },
  {
   "cell_type": "markdown",
   "metadata": {},
   "source": [
    "3) Find the duplicate values in Quotebank"
   ]
  },
  {
   "cell_type": "code",
   "execution_count": 10,
   "metadata": {},
   "outputs": [
    {
     "name": "stdout",
     "output_type": "stream",
     "text": [
      "\u001b[0m Duplicate values of  7124  total elements \n",
      "\n",
      "\u001b[0m Duplicated  quoteID :  0 \n",
      "\u001b[0m Duplicated  quotation :  0 \n",
      "\u001b[0m Duplicated  speaker :  4892 \n",
      "\u001b[0m Duplicated  date :  459 \n",
      "\u001b[0m Duplicated  numOccurrences :  6963 \n",
      "\u001b[0m Duplicated  phase :  7123 \n",
      "\u001b[0m Duplicated  year :  7118 \n"
     ]
    },
    {
     "name": "stderr",
     "output_type": "stream",
     "text": [
      "/Users/victorgonzalez/opt/anaconda3/envs/ada/lib/python3.8/site-packages/seaborn/_decorators.py:36: FutureWarning: Pass the following variables as keyword args: x, y. From version 0.12, the only valid positional argument will be `data`, and passing other arguments without an explicit keyword will result in an error or misinterpretation.\n",
      "  warnings.warn(\n"
     ]
    },
    {
     "data": {
      "image/png": "[encoded data removed]",
      "text/plain": [
       "<Figure size 1080x144 with 1 Axes>"
      ]
     },
     "metadata": {
      "needs_background": "light"
     },
     "output_type": "display_data"
    }
   ],
   "source": [
    "print('\\033[0m','Duplicate values of ',len(df_step2),' total elements \\n')\n",
    "\n",
    "c=list(df_step2.columns)\n",
    "c.remove('qids')\n",
    "c.remove('probas')\n",
    "c.remove('urls')\n",
    "v = []\n",
    "\n",
    "for m in c:\n",
    "    print('\\033[0m','Duplicated ',m,': ',df_step2.duplicated([m]).sum(),'')\n",
    "    v.append(df_step2.duplicated([m]).sum())\n",
    "fig, axs = plt.subplots(1, 1,figsize=(15,2))\n",
    "sns.barplot(c,v)\n",
    "axs.set_title('Duplicate values in dataset')\n",
    "plt.show()"
   ]
  },
  {
   "cell_type": "markdown",
   "metadata": {},
   "source": [
    "4) Duplicate values are dropped. In this case no row has a duplicate quotations or quoteIDs"
   ]
  },
  {
   "cell_type": "code",
   "execution_count": 11,
   "metadata": {},
   "outputs": [],
   "source": [
    "df_step2 = df_step2.dropna(subset=['quotation','quoteID'])"
   ]
  },
  {
   "cell_type": "markdown",
   "metadata": {},
   "source": [
    "5) Missing values are found in the Quotebank dataset"
   ]
  },
  {
   "cell_type": "code",
   "execution_count": 12,
   "metadata": {},
   "outputs": [
    {
     "name": "stdout",
     "output_type": "stream",
     "text": [
      "\u001b[0m Missing values of  7124  total elements \n",
      "\n",
      "\u001b[0m Missing  quoteIDs :  0 \n",
      "\u001b[0m Missing  quotation :  0 \n",
      "\u001b[0m Missing  speaker :  2439 \n",
      "\u001b[0m Missing  qids :  2439 \n",
      "\u001b[0m Missing  numOcurr :  0 \n",
      "\u001b[0m Missing  probas :  0 \n"
     ]
    },
    {
     "name": "stderr",
     "output_type": "stream",
     "text": [
      "/Users/victorgonzalez/opt/anaconda3/envs/ada/lib/python3.8/site-packages/seaborn/_decorators.py:36: FutureWarning: Pass the following variables as keyword args: x, y. From version 0.12, the only valid positional argument will be `data`, and passing other arguments without an explicit keyword will result in an error or misinterpretation.\n",
      "  warnings.warn(\n"
     ]
    },
    {
     "data": {
      "image/png": "[encoded data removed]",
      "text/plain": [
       "<Figure size 1080x144 with 1 Axes>"
      ]
     },
     "metadata": {
      "needs_background": "light"
     },
     "output_type": "display_data"
    }
   ],
   "source": [
    "print('\\033[0m','Missing values of ',len(df_step2),' total elements \\n')\n",
    "\n",
    "mqid = len(df_step2) -len(df_step2[df_step2[\"quoteID\"].notnull()])\n",
    "mq = len(df_step2) -len(df_step2[df_step2[\"quotation\"].notna()])\n",
    "ms = len(df_step2[df_step2[\"speaker\"] == 'None'])\n",
    "mqiss = len(df_step2[(df_step2.qids.apply(lambda x: len(x)==0))])\n",
    "mno = len(df_step2[df_step2[\"numOccurrences\"] == 0])\n",
    "mp = len(df_step2[(df_step2.probas.apply(lambda x: len(x)==0))])\n",
    "\n",
    "missing = ['quoteIDs','quotation','speaker','qids','numOcurr','probas']\n",
    "vals = [mqid,mq,ms,mqiss,mno,mp]\n",
    "for i in range(len(vals)):\n",
    "    print('\\033[0m','Missing ',missing[i],': ',vals[i],'')\n",
    "    \n",
    "fig, axs = plt.subplots(1, 1,figsize=(15,2))\n",
    "sns.barplot(missing,vals)\n",
    "axs.set_title('Missing values in dataset')\n",
    "plt.show()"
   ]
  },
  {
   "cell_type": "markdown",
   "metadata": {},
   "source": [
    "6) Find missing values in speakers_attributes dataset"
   ]
  },
  {
   "cell_type": "code",
   "execution_count": 13,
   "metadata": {},
   "outputs": [
    {
     "name": "stdout",
     "output_type": "stream",
     "text": [
      "\u001b[0m Missing values of  9055981  total elements \n",
      "\n",
      "\u001b[0m Missing  aliases :  7852579 \n",
      "\u001b[0m Missing  date_of_birth :  4038648 \n",
      "\u001b[0m Missing  nationality :  5340129 \n",
      "\u001b[0m Missing  gender :  1950381 \n",
      "\u001b[0m Missing  lastrevid :  0 \n",
      "\u001b[0m Missing  ethnic_group :  8925596 \n",
      "\u001b[0m Missing  US_congress_bio_ID :  9043107 \n",
      "\u001b[0m Missing  occupation :  2682897 \n",
      "\u001b[0m Missing  party :  8656805 \n",
      "\u001b[0m Missing  academic_degree :  8955986 \n",
      "\u001b[0m Missing  id :  0 \n",
      "\u001b[0m Missing  label :  512300 \n",
      "\u001b[0m Missing  candidacy :  8990539 \n",
      "\u001b[0m Missing  religion :  8859697 \n"
     ]
    },
    {
     "name": "stderr",
     "output_type": "stream",
     "text": [
      "/Users/victorgonzalez/opt/anaconda3/envs/ada/lib/python3.8/site-packages/seaborn/_decorators.py:36: FutureWarning: Pass the following variables as keyword args: x, y. From version 0.12, the only valid positional argument will be `data`, and passing other arguments without an explicit keyword will result in an error or misinterpretation.\n",
      "  warnings.warn(\n"
     ]
    },
    {
     "data": {
      "image/png": "[encoded data removed]",
      "text/plain": [
       "<Figure size 1584x216 with 1 Axes>"
      ]
     },
     "metadata": {
      "needs_background": "light"
     },
     "output_type": "display_data"
    }
   ],
   "source": [
    "print('\\033[0m','Missing values of ',len(df_speaker_attributes),' total elements \\n')\n",
    "\n",
    "vals = []\n",
    "missing = ['aliases','date_of_birth','nationality','gender','lastrevid','ethnic_group','US_congress_bio_ID','occupation','party','academic_degree','id','label','candidacy','religion']\n",
    "for m in missing:\n",
    "    vals.append(len(df_speaker_attributes[df_speaker_attributes[m].isnull()]))\n",
    "for i in range(len(vals)):\n",
    "    print('\\033[0m','Missing ',missing[i],': ',vals[i],'')\n",
    "\n",
    "fig,axs = plt.subplots(1, 1,figsize=(22,3))\n",
    "sns.barplot(missing,vals)\n",
    "axs.set_title('Missing values in dataset')\n",
    "plt.show()"
   ]
  },
  {
   "cell_type": "markdown",
   "metadata": {},
   "source": [
    "7) Detect incorrect or inconsistent values that indicate uncertainity such as rows with several qids and/or several \n",
    "probabilities for the same quotation"
   ]
  },
  {
   "cell_type": "code",
   "execution_count": 14,
   "metadata": {},
   "outputs": [
    {
     "name": "stdout",
     "output_type": "stream",
     "text": [
      "\u001b[0m 1  qids:  3281 ;  1  probas 0 \n",
      "\u001b[0m 2  qids:  613 ;  2  probas 3438 \n",
      "\u001b[0m 3  qids:  201 ;  3  probas 1917 \n",
      "\u001b[0m 4  qids:  118 ;  4  probas 910 \n",
      "\u001b[0m 5  qids:  86 ;  5  probas 380 \n",
      "\u001b[0m 6  qids:  54 ;  6  probas 208 \n",
      "\u001b[0m 7  qids:  64 ;  7  probas 101 \n"
     ]
    },
    {
     "name": "stderr",
     "output_type": "stream",
     "text": [
      "/Users/victorgonzalez/opt/anaconda3/envs/ada/lib/python3.8/site-packages/seaborn/_decorators.py:36: FutureWarning: Pass the following variables as keyword args: x, y. From version 0.12, the only valid positional argument will be `data`, and passing other arguments without an explicit keyword will result in an error or misinterpretation.\n",
      "  warnings.warn(\n",
      "/Users/victorgonzalez/opt/anaconda3/envs/ada/lib/python3.8/site-packages/seaborn/_decorators.py:36: FutureWarning: Pass the following variables as keyword args: x, y. From version 0.12, the only valid positional argument will be `data`, and passing other arguments without an explicit keyword will result in an error or misinterpretation.\n",
      "  warnings.warn(\n"
     ]
    },
    {
     "data": {
      "image/png": "[encoded data removed]",
      "text/plain": [
       "<Figure size 1080x144 with 2 Axes>"
      ]
     },
     "metadata": {
      "needs_background": "light"
     },
     "output_type": "display_data"
    }
   ],
   "source": [
    "uncertainity = [1,2,3,4,5,6,7]\n",
    "qids_uncert=[]\n",
    "p_uncert = []\n",
    "for d in uncertainity:\n",
    "    u = len(df_step2[(df_step2.qids.apply(lambda x: len(x)==d))])\n",
    "    qids_uncert.append(u)\n",
    "    p = len(df_step2[(df_step2.probas.apply(lambda x: len(x)==d))])\n",
    "    p_uncert.append(p)\n",
    "    print('\\033[0m',d,' qids: ',u,'; ',d,' probas',p,'')\n",
    "fig, axs = plt.subplots(1, 2,figsize=(15,2))\n",
    "sns.barplot(uncertainity,qids_uncert,ax=axs[0])\n",
    "axs[0].set_title('Uncertainity in qids')\n",
    "sns.barplot(uncertainity,p_uncert,ax=axs[1])\n",
    "axs[1].set_title('Uncertainity in probas')\n",
    "plt.show()"
   ]
  },
  {
   "cell_type": "markdown",
   "metadata": {},
   "source": [
    "8) For each speaker, only the first qid is chosen"
   ]
  },
  {
   "cell_type": "code",
   "execution_count": 15,
   "metadata": {},
   "outputs": [],
   "source": [
    "df_step2['unique_qids'] = df_step2.qids.apply(lambda y: [] if len(y)==0 else [y[0]]) # Find unique qids"
   ]
  },
  {
   "cell_type": "markdown",
   "metadata": {},
   "source": [
    "9) For each quote with a missing speaker, they are associated their second highest value in the 'probas' column if the probability\n",
    "is greater than a given threshold, in this case 40%"
   ]
  },
  {
   "cell_type": "code",
   "execution_count": 16,
   "metadata": {},
   "outputs": [],
   "source": [
    "i = list(df_step2[df_step2.speaker=='None'].index) # First find the empty speakers\n",
    "empty = df_step2.iloc[i]\n",
    "indexes = [x for x in empty.index if float(empty.loc[x,'probas'][1][1])>0.4] # Where prob > X%\n",
    "subs = [x[1][0] for x in df_step2.loc[indexes,'probas']] # get the second speaker after 'None'\n",
    "b = zip(indexes,subs)\n",
    "dn = pd.DataFrame(b)\n",
    "xn = dn.set_index(0)\n",
    "df_step2.loc[indexes,'speaker']= xn.loc[indexes,1] # Substitute the empty speaker for the second option\n",
    "df_step2 = df_step2[df_step2.speaker!='None'] # Drop those that still are not filled"
   ]
  },
  {
   "cell_type": "markdown",
   "metadata": {},
   "source": [
    "10) Taking a look at the speakers_attributes database, the empty aliases are filled with the 'label' value, if this field is also empty, that row is dropped"
   ]
  },
  {
   "cell_type": "code",
   "execution_count": 17,
   "metadata": {},
   "outputs": [],
   "source": [
    "inull = df_speaker_attributes[df_speaker_attributes.aliases.isnull()].index\n",
    "df_speaker_attributes.loc[inull,'aliases'] = df_speaker_attributes.loc[inull,'label']\n",
    "df_speaker_attributes = df_speaker_attributes.dropna(subset=['aliases'])"
   ]
  },
  {
   "cell_type": "markdown",
   "metadata": {},
   "source": [
    "11) For those newly associated speakers, their qid is found in the speakers_attributes table"
   ]
  },
  {
   "cell_type": "code",
   "execution_count": 18,
   "metadata": {},
   "outputs": [],
   "source": [
    "# Find the indexes where the unique_qids are not filled\n",
    "names_wo_id = list(df_step2[df_step2.unique_qids.apply(lambda x: len(x) ==0)]['speaker'])\n",
    "names_wo_id_df = pd.DataFrame(names_wo_id).drop_duplicates()\n",
    "names_wo_id = list(names_wo_id_df[0])\n",
    "\n",
    "kv = []\n",
    "for query in names_wo_id:\n",
    "    idss=list(df_speaker_attributes[df_speaker_attributes.aliases.apply(lambda y: query in y)].id)\n",
    "    theid = [idss[0]] if len(idss)>0 else None\n",
    "    kv.append({'name':query,'qid':theid})\n",
    "\n",
    "# Auxiliar dataframe with missing speakers and their qids\n",
    "auxi = pd.DataFrame(kv)\n",
    "auxi = auxi.dropna(subset=['qid'])\n",
    "auxi = auxi.set_index('name')\n",
    "keepindex = df_step2.index # store the index for later\n",
    "df_step2 = df_step2.set_index('speaker') # change the index to the 'speakers'\n",
    "\n",
    "# Speakers in quotebank are associated with their qid from speakers_attributes\n",
    "df_step2.loc[auxi.index,'unique_qids'] = auxi.loc[auxi.index,'qid']\n",
    "df_step2['speaker'] = df_step2.index # rescue the speakers' column\n",
    "df_step2 = df_step2.set_index(keepindex) # rescue the previous index"
   ]
  },
  {
   "cell_type": "markdown",
   "metadata": {},
   "source": [
    "12) There are some speakers that do not appear in the speakers_attributes aliases, therefore no qid is found, and those rows are dropped"
   ]
  },
  {
   "cell_type": "code",
   "execution_count": 19,
   "metadata": {},
   "outputs": [
    {
     "name": "stderr",
     "output_type": "stream",
     "text": [
      "/var/folders/cz/drxl2w614qg049wmqrzy06ww0000gn/T/ipykernel_60615/3671923134.py:3: FutureWarning: In a future version of pandas all arguments of DataFrame.dropna will be keyword-only\n",
      "  df_step2=df_step2.dropna(0,subset=['unique_qids'])\n"
     ]
    }
   ],
   "source": [
    "# Rename 'NaN' the unique qids which are not filled so then its easier to drop them\n",
    "df_step2.unique_qids = df_step2.unique_qids.apply(lambda y: np.nan if len(y)==0 else y)\n",
    "df_step2=df_step2.dropna(0,subset=['unique_qids'])\n",
    "df_step2['qids'] = df_step2['unique_qids']\n",
    "\n",
    "# Reorder the columns because speaker was moved before when the index change\n",
    "df_step2 = df_step2[[\"quoteID\", \"quotation\", \"speaker\", \"qids\", \"date\", \"numOccurrences\", \"probas\", \"urls\", \"phase\", \"unique_qids\", \"year\"]]\n",
    "df_step2 = df_step2.drop('unique_qids', axis=1)\n",
    "df_step2 = df_step2.dropna(subset=['qids'])"
   ]
  },
  {
   "cell_type": "markdown",
   "metadata": {},
   "source": [
    "13) Finally, the database Quotebank is converted into a json in order to assign to it the information present in the Wikidata dumps"
   ]
  },
  {
   "cell_type": "code",
   "execution_count": 20,
   "metadata": {},
   "outputs": [],
   "source": [
    "df_step2.to_json(path_or_buf='./data/df_step2.json.bz2', orient='records', compression='bz2', lines=True)"
   ]
  },
  {
   "cell_type": "markdown",
   "metadata": {},
   "source": [
    "---"
   ]
  },
  {
   "cell_type": "markdown",
   "metadata": {},
   "source": [
    "## 3.3: Expand with Wikidata dumps, deep cleaning & exploration\n",
    "- Merge Quotebank with Wikidata dumps\n",
    "- NLP cleaning\n",
    "    - Remove capital letters, punctuations, emojis, links\n",
    "    - Lemmatization\n",
    "- Extracting summary statistics, distributions and correlations\n",
    "- First model approximation of linear regression\n",
    "- Justify feasibility of data"
   ]
  },
  {
   "cell_type": "markdown",
   "metadata": {},
   "source": [
    "The third and final step involves matching each quote with attributes of its speaker. As mentioned above, this is done by looking into Wikidata subset datasource and grabbing attributes assigned to most likely speaker's Wikidata QID. Because some fields may be empty (due to missing data), we make sure that this case is handled correctly.\n",
    "\n",
    "**Inputs:**\n",
    "- compressed JSON file with quotes mentioning Brexit and with a known speaker from Quotebank from given year, e.g., `quotes-{year}-step2.json.bz2`\n",
    "\n",
    "- Wikidata subset with data regarding speakers from Quotebank, stored as a .parquet file, i.e. `speaker_attributes.parquet`\n",
    "\n",
    "- Wikidata subset with labels and descriptions of all references mentioned in .parquet Wikidata subset, i.e. `wikidata_labels_descriptions_quotebank.csv.bz2`\n",
    "\n",
    "**Output:** Compressed JSON file with quotes mentioning Brexit and with a known speaker from Quotebank from given year, alongside attributes for speaker of each quote, e.g., `quotes-{year}-step3.json.bz2`\n",
    "\n",
    "**NOTE:** Wikidata `.parquet` file is stored in memory, which could take ~6 GB of your RAM - please consider using Google Colab, which by default provides 12 GB of RAM."
   ]
  },
  {
   "cell_type": "markdown",
   "metadata": {},
   "source": [
    "1) Merge Wikidata dumps with improved Quotation dataframe and load dataframe from json"
   ]
  },
  {
   "cell_type": "code",
   "execution_count": 21,
   "metadata": {},
   "outputs": [],
   "source": [
    "# # Step 3: merge data from Quotebank and Wikidata\n",
    "# # NOTE: Wikidata parquet requires ~7 GB of RAM available - please use Colab for this step\n",
    "# wd_df = pd.read_parquet('data/speaker_attributes.parquet')\n",
    "# wd_df.set_index('id', inplace=True)\n",
    "\n",
    "# wd_desc_df = pd.read_csv('data/wikidata_labels_descriptions_quotebank.csv.bz2', compression='bz2', index_col='QID')\n",
    "\n",
    "# for year in YEARS:\n",
    "#     path_to_file = f'data/quotes-{year}-step2.json.bz2' \n",
    "#     path_to_out = f'data/quotes-{year}-step3.json.bz2'\n",
    "#     index_of_wd_df = set(wd_df.index)\n",
    "#     with bz2.open(path_to_file, 'rb') as s_file:\n",
    "#         with bz2.open(path_to_out, 'wb') as d_file:\n",
    "#             for instance in s_file:\n",
    "#                 instance = json.loads(instance) # loading a sample\n",
    "#                 qid = list(index_of_wd_df.intersection(set(instance['qids'])))\n",
    "#                 if(len(qid) == 0):\n",
    "#                     # Overall, two quotes get ignored due to no match in Wikidata\n",
    "#                     d_file.write((json.dumps(instance)+'\\n').encode('utf-8')) \n",
    "#                     continue\n",
    "#                 if (wd_df['gender'][qid][0] is not None):\n",
    "#                   instance['gender'] = wd_desc_df['Label'][wd_df['gender'][qid][0]].tolist()\n",
    "#                 else:\n",
    "#                   instance['gender'] = []\n",
    "#                 if (wd_df['date_of_birth'][qid][0] is not None):\n",
    "#                   instance['date_of_birth'] = wd_df['date_of_birth'][qid][0].tolist()\n",
    "#                 else:\n",
    "#                   instance['date_of_birth'] = []\n",
    "#                 if (wd_df['nationality'][qid][0] is not None):\n",
    "#                   instance['nationality'] = wd_desc_df['Label'][wd_df['nationality'][qid][0]].tolist()\n",
    "#                 else:\n",
    "#                   instance['nationality'] = []\n",
    "#                 if (wd_df['occupation'][qid][0] is not None):\n",
    "#                   instance['occupation'] = wd_desc_df['Label'][wd_df['occupation'][qid][0]].tolist()\n",
    "#                 else:\n",
    "#                   instance['occupation'] = []\n",
    "#                 if (wd_df['party'][qid][0] is not None):\n",
    "#                   instance['party'] = wd_desc_df['Label'][wd_df['party'][qid][0]].tolist()\n",
    "#                 else:\n",
    "#                   instance['party'] = []\n",
    "#                 if (wd_df['academic_degree'][qid][0] is not None):\n",
    "#                   instance['academic_degree'] = wd_desc_df['Label'][wd_df['academic_degree'][qid][0]].tolist()\n",
    "#                 else:\n",
    "#                   instance['academic_degree'] = []\n",
    "#                 if (wd_df['candidacy'][qid][0] is not None):\n",
    "#                   instance['candidacy'] = wd_desc_df['Label'][wd_df['candidacy'][qid][0]].tolist()\n",
    "#                 else:\n",
    "#                   instance['candidacy'] = []\n",
    "#                 if (wd_df['religion'][qid][0] is not None):\n",
    "#                   instance['religion'] = wd_desc_df['Label'][wd_df['religion'][qid][0]].tolist()\n",
    "#                 else:\n",
    "#                   instance['religion'] = []\n",
    "#                 d_file.write((json.dumps(instance)+'\\n').encode('utf-8')) # writing in the new file\n",
    "\n",
    "df_step3 = pd.read_json('./data/df_step3.json.bz2', compression='bz2', lines=True)\n",
    "df_quotes = df_step3"
   ]
  },
  {
   "cell_type": "markdown",
   "metadata": {},
   "source": [
    "2) Remove capital letters, punctuations, emojis, links\n"
   ]
  },
  {
   "cell_type": "code",
   "execution_count": 22,
   "metadata": {},
   "outputs": [],
   "source": [
    "def clean_text(text):\n",
    "    text = text.lower()\n",
    "    text = re.sub('@', '', text)\n",
    "    text = re.sub('\\[.*?\\]', '', text)\n",
    "    text = re.sub('https?://\\S+|www\\.\\S+', '', text)\n",
    "    text = re.sub('<.*?>+', '', text)\n",
    "    text = re.sub('[%s]' % re.escape(string.punctuation), '', text)\n",
    "    text = re.sub('\\n', '', text)\n",
    "    text = re.sub('\\w*\\d\\w*', '', text)\n",
    "    text = re.sub(r\"[^a-zA-Z ]+\", \"\", text)\n",
    "    \n",
    "    #Tokenize the data\n",
    "    text = nltk.word_tokenize(text)\n",
    "    #Remove stopwords\n",
    "    text = [w for w in text if w not in sw]\n",
    "    return text\n",
    "\n",
    "df_quotes['quotation'] = df_quotes['quotation'].apply(lambda x: clean_text(x))"
   ]
  },
  {
   "cell_type": "markdown",
   "metadata": {},
   "source": [
    "3) Lemmatization: the process of grouping together the inflected forms of a word so they can be analyzed as a single item, since they have a similar meaning (walking becomes walk, officers becomes officer, etc.)\n"
   ]
  },
  {
   "cell_type": "code",
   "execution_count": 23,
   "metadata": {},
   "outputs": [],
   "source": [
    "lemmatizer = WordNetLemmatizer()\n",
    "def lem(text):\n",
    "    text = [lemmatizer.lemmatize(t) for t in text]\n",
    "    text = [lemmatizer.lemmatize(t, 'v') for t in text]\n",
    "    return text\n",
    "df_quotes['quotation'] = df_quotes['quotation'].apply(lambda x: lem(x))\n",
    "df_quotes=df_quotes.reset_index(drop=True)"
   ]
  },
  {
   "cell_type": "markdown",
   "metadata": {},
   "source": [
    "4) Find histograms for the 10 most popular items of each category"
   ]
  },
  {
   "cell_type": "code",
   "execution_count": 24,
   "metadata": {},
   "outputs": [
    {
     "data": {
      "image/png": "[encoded data removed]",
      "text/plain": [
       "<Figure size 1728x2160 with 10 Axes>"
      ]
     },
     "metadata": {
      "needs_background": "light"
     },
     "output_type": "display_data"
    }
   ],
   "source": [
    "# Create an auxiliar dataframe employing only strings\n",
    "pd_explore = pd.DataFrame()\n",
    "pd_explore['speaker']= df_quotes.speaker\n",
    "pd_explore['year']= df_quotes.year\n",
    "pd_explore['gender']=[x[0] if (not (isinstance(x,float) and x!='nan') and len(x)>0) else 'NotDefined' for x in df_quotes.gender]\n",
    "pd_explore['nationality']=[x[0] if (not (isinstance(x,float) and x!='nan') and len(x)>0) else 'NotDefined' for x in df_quotes.nationality]\n",
    "pd_explore['religion']=[x[0] if (not (isinstance(x,float) and x!='nan') and len(x)>0) else 'NotDefined' for x in df_quotes.religion]\n",
    "pd_explore['occupation']=[x[0] if (not (isinstance(x,float) and x!='nan') and len(x)>0) else 'NotDefined' for x in df_quotes.occupation]\n",
    "pd_explore['party']=[x[0] if (not (isinstance(x,float) and x!='nan') and len(x)>0) else 'NotDefined' for x in df_quotes.party]\n",
    "pd_explore['academic_degree']=[x[0] if (not (isinstance(x,float) and x!='nan') and len(x)>0) else 'NotDefined' for x in df_quotes.academic_degree]\n",
    "pd_explore['candidacy']=[x[0] if (not (isinstance(x,float) and x!='nan') and len(x)>0) else 'NotDefined' for x in df_quotes.candidacy]\n",
    "pd_explore['numOccurrences']= df_quotes.numOccurrences\n",
    "\n",
    "heads = list(pd_explore.columns)\n",
    "colors = ['m','y','b','g','k','r','c','m','g','b','y']\n",
    "fig, axs = plt.subplots(int(len(heads)/2), 2,figsize=(24,30))\n",
    "for n in range(len(heads)):\n",
    "    f = int(np.floor(n/2))\n",
    "    c = n%2\n",
    "    plotting = list(pd_explore[heads[n]])\n",
    "    letter_counts = Counter(plotting)\n",
    "    a = letter_counts.most_common(6)\n",
    "    b=pd.DataFrame(a)\n",
    "    b=b.set_index(0)\n",
    "    b.plot(kind='bar',ax = axs[f][c],color=colors[n])\n",
    "    axs[f][c].legend({heads[n]})\n",
    "    axs[f][c].set_xlabel(\"\")\n",
    "    axs[f][c].tick_params(labelrotation=12)\n",
    "plt.show()"
   ]
  },
  {
   "cell_type": "markdown",
   "metadata": {},
   "source": [
    "5) Drop the NotDefined data"
   ]
  },
  {
   "cell_type": "code",
   "execution_count": 25,
   "metadata": {},
   "outputs": [],
   "source": [
    "pd_explore_2  = pd_explore[['speaker','year','gender','nationality','occupation','numOccurrences','party']]\n",
    "withcorrfull = pd.DataFrame()\n",
    "heads = list(pd_explore_2.columns)\n",
    "for head in heads:\n",
    "    withcorrfull[head] = [x  if x!='NotDefined' else None for x in pd_explore_2[head]]\n",
    "notna_df = withcorrfull.dropna()"
   ]
  },
  {
   "cell_type": "markdown",
   "metadata": {},
   "source": [
    "6) Find correlations between columns"
   ]
  },
  {
   "cell_type": "code",
   "execution_count": 26,
   "metadata": {},
   "outputs": [
    {
     "name": "stdout",
     "output_type": "stream",
     "text": [
      "There are:  2166  values left\n"
     ]
    },
    {
     "data": {
      "text/html": [
       "<div>\n",
       "<style scoped>\n",
       "    .dataframe tbody tr th:only-of-type {\n",
       "        vertical-align: middle;\n",
       "    }\n",
       "\n",
       "    .dataframe tbody tr th {\n",
       "        vertical-align: top;\n",
       "    }\n",
       "\n",
       "    .dataframe thead th {\n",
       "        text-align: right;\n",
       "    }\n",
       "</style>\n",
       "<table border=\"1\" class=\"dataframe\">\n",
       "  <thead>\n",
       "    <tr style=\"text-align: right;\">\n",
       "      <th></th>\n",
       "      <th>speaker</th>\n",
       "      <th>year</th>\n",
       "      <th>gender</th>\n",
       "      <th>nationality</th>\n",
       "      <th>occupation</th>\n",
       "      <th>numOccurrences</th>\n",
       "      <th>party</th>\n",
       "    </tr>\n",
       "  </thead>\n",
       "  <tbody>\n",
       "    <tr>\n",
       "      <th>speaker</th>\n",
       "      <td>1.000000</td>\n",
       "      <td>-0.027159</td>\n",
       "      <td>-0.020161</td>\n",
       "      <td>0.010072</td>\n",
       "      <td>-0.040578</td>\n",
       "      <td>0.043586</td>\n",
       "      <td>0.055619</td>\n",
       "    </tr>\n",
       "    <tr>\n",
       "      <th>year</th>\n",
       "      <td>-0.027159</td>\n",
       "      <td>1.000000</td>\n",
       "      <td>-0.036993</td>\n",
       "      <td>0.007976</td>\n",
       "      <td>0.062761</td>\n",
       "      <td>0.011222</td>\n",
       "      <td>-0.053193</td>\n",
       "    </tr>\n",
       "    <tr>\n",
       "      <th>gender</th>\n",
       "      <td>-0.020161</td>\n",
       "      <td>-0.036993</td>\n",
       "      <td>1.000000</td>\n",
       "      <td>-0.117777</td>\n",
       "      <td>-0.102032</td>\n",
       "      <td>-0.001432</td>\n",
       "      <td>-0.047456</td>\n",
       "    </tr>\n",
       "    <tr>\n",
       "      <th>nationality</th>\n",
       "      <td>0.010072</td>\n",
       "      <td>0.007976</td>\n",
       "      <td>-0.117777</td>\n",
       "      <td>1.000000</td>\n",
       "      <td>0.002532</td>\n",
       "      <td>-0.006005</td>\n",
       "      <td>-0.176732</td>\n",
       "    </tr>\n",
       "    <tr>\n",
       "      <th>occupation</th>\n",
       "      <td>-0.040578</td>\n",
       "      <td>0.062761</td>\n",
       "      <td>-0.102032</td>\n",
       "      <td>0.002532</td>\n",
       "      <td>1.000000</td>\n",
       "      <td>0.023854</td>\n",
       "      <td>0.007937</td>\n",
       "    </tr>\n",
       "    <tr>\n",
       "      <th>numOccurrences</th>\n",
       "      <td>0.043586</td>\n",
       "      <td>0.011222</td>\n",
       "      <td>-0.001432</td>\n",
       "      <td>-0.006005</td>\n",
       "      <td>0.023854</td>\n",
       "      <td>1.000000</td>\n",
       "      <td>-0.011913</td>\n",
       "    </tr>\n",
       "    <tr>\n",
       "      <th>party</th>\n",
       "      <td>0.055619</td>\n",
       "      <td>-0.053193</td>\n",
       "      <td>-0.047456</td>\n",
       "      <td>-0.176732</td>\n",
       "      <td>0.007937</td>\n",
       "      <td>-0.011913</td>\n",
       "      <td>1.000000</td>\n",
       "    </tr>\n",
       "  </tbody>\n",
       "</table>\n",
       "</div>"
      ],
      "text/plain": [
       "                 speaker      year    gender  nationality  occupation  \\\n",
       "speaker         1.000000 -0.027159 -0.020161     0.010072   -0.040578   \n",
       "year           -0.027159  1.000000 -0.036993     0.007976    0.062761   \n",
       "gender         -0.020161 -0.036993  1.000000    -0.117777   -0.102032   \n",
       "nationality     0.010072  0.007976 -0.117777     1.000000    0.002532   \n",
       "occupation     -0.040578  0.062761 -0.102032     0.002532    1.000000   \n",
       "numOccurrences  0.043586  0.011222 -0.001432    -0.006005    0.023854   \n",
       "party           0.055619 -0.053193 -0.047456    -0.176732    0.007937   \n",
       "\n",
       "                numOccurrences     party  \n",
       "speaker               0.043586  0.055619  \n",
       "year                  0.011222 -0.053193  \n",
       "gender               -0.001432 -0.047456  \n",
       "nationality          -0.006005 -0.176732  \n",
       "occupation            0.023854  0.007937  \n",
       "numOccurrences        1.000000 -0.011913  \n",
       "party                -0.011913  1.000000  "
      ]
     },
     "execution_count": 26,
     "metadata": {},
     "output_type": "execute_result"
    }
   ],
   "source": [
    "cat_df = pd.DataFrame()\n",
    "for head in heads:\n",
    "    cat_df[head]=notna_df[head].astype('category').cat.codes\n",
    "print('There are: ',len(cat_df),' values left')\n",
    "cat_df.corr()\n"
   ]
  },
  {
   "cell_type": "code",
   "execution_count": 27,
   "metadata": {},
   "outputs": [
    {
     "data": {
      "image/png": "[encoded data removed]",
      "text/plain": [
       "<Figure size 432x288 with 2 Axes>"
      ]
     },
     "metadata": {
      "needs_background": "light"
     },
     "output_type": "display_data"
    }
   ],
   "source": [
    "correlations=cat_df.corr()\n",
    "sns.heatmap(correlations)\n",
    "plt.title('Correlations between columns in dataframe')\n",
    "plt.show()"
   ]
  },
  {
   "cell_type": "markdown",
   "metadata": {},
   "source": [
    "7) First approximation of a model with linear regression"
   ]
  },
  {
   "cell_type": "code",
   "execution_count": 28,
   "metadata": {},
   "outputs": [
    {
     "data": {
      "image/png": "[encoded data removed]",
      "text/plain": [
       "<Figure size 1440x576 with 2 Axes>"
      ]
     },
     "metadata": {
      "needs_background": "light"
     },
     "output_type": "display_data"
    }
   ],
   "source": [
    "import scipy\n",
    "fig, ax = plt.subplots(1,2, figsize=(20,8))\n",
    "\n",
    "x = list(cat_df['nationality'])\n",
    "y = list(cat_df['year'])\n",
    "\n",
    "slope, intercept, r, p, stderr = scipy.stats.linregress(x, y)\n",
    "line = f'Regression line: y={intercept:.2f}+{slope:.2f}x, r={r:.2f}'\n",
    "line\n",
    "\n",
    "ax[0].plot(x, y, linewidth=0, marker='s', label='Data points')\n",
    "mm = [slope*float(i) for i in x]\n",
    "ax[0].plot(x, intercept + mm, label=line)\n",
    "ax[0].set_xlabel('nationality')\n",
    "ax[0].set_ylabel('year')\n",
    "ax[0].set_title('Linear regression for nationality-year')\n",
    "ax[0].legend(facecolor='white')\n",
    "\n",
    "\n",
    "x = list(cat_df['speaker'])\n",
    "y = list(cat_df['occupation'])\n",
    "\n",
    "slope, intercept, r, p, stderr = scipy.stats.linregress(x, y)\n",
    "line = f'Regression line: y={intercept:.2f}+{slope:.2f}x, r={r:.2f}'\n",
    "line\n",
    "\n",
    "ax[1].plot(x, y, linewidth=0, marker='s', label='Data points')\n",
    "mm = [slope*float(i) for i in x]\n",
    "ax[1].plot(x, intercept + mm, label=line)\n",
    "ax[1].set_xlabel('speaker')\n",
    "ax[1].set_ylabel('occupation')\n",
    "ax[1].set_title('Linear regression for speaker-occupation')\n",
    "ax[1].legend(facecolor='white')\n",
    "\n",
    "\n",
    "plt.show()"
   ]
  },
  {
   "cell_type": "markdown",
   "metadata": {},
   "source": [
    "*Linear regression is not very useful, maybe find a model for categorization.*"
   ]
  },
  {
   "cell_type": "markdown",
   "metadata": {},
   "source": [
    "8) Justify feasibility given the data\n",
    "- Format is appropriate for analysis\n",
    "- Enough quotes\n",
    "- Quotes addressing the issue\n",
    "- Different speakers involved\n",
    "- Uniformity of speakers (not all from the same speaker)\n",
    "- Uniformity of years quotes (not all from the same year)\n",
    "- Long and short sentences\n",
    "- Not many missing quotes\n",
    "- Not many missing speakers\n",
    "- No correlations between columns"
   ]
  },
  {
   "cell_type": "markdown",
   "metadata": {},
   "source": [
    "## 3.4. Exploring and visualization"
   ]
  },
  {
   "cell_type": "markdown",
   "metadata": {},
   "source": [
    "### Plan for analysis"
   ]
  },
  {
   "cell_type": "markdown",
   "metadata": {},
   "source": [
    "# For each of the questions include the following (even though it is not enriched in the end for ex):\n",
    "- Various choices of analyses that we thought about but discarded \n",
    "- Consider ways to enrich, filter, transform data according to needs \n",
    "- Final good choice for analysis. Has to be reasonable and sound\n",
    "- Complete necessary descriptive statistic tasks"
   ]
  },
  {
   "cell_type": "markdown",
   "metadata": {},
   "source": [
    "# State and describe all of our questions\n",
    "- Q1: Which percentage of the speakers supported or was against Brexit?\n",
    "- Q2: What arguments did the members of each category use to support their beliefs? \n",
    "- Q3: Who were the main supporters of each of the categories? Analyze them according to age, gender, occupation, ...\n",
    "- Q4: How did the opinion towards Brexit change during the 5 year span? Did the arguments of each group also change?"
   ]
  },
  {
   "cell_type": "markdown",
   "metadata": {},
   "source": [
    "#### Q1: Which percentage of the speakers supported or was against Brexit?"
   ]
  },
  {
   "cell_type": "markdown",
   "metadata": {},
   "source": [
    "The vast majority of comments are what could be considered as rather neutral, with the mean comment having a polarity of 0.051938. About 75% of the comments have a polarity of less than 0.1, meaning there are very few polarized quotes comments \n",
    "In fact, only 16 of the 339 quotes have a polarity of more than 0.5."
   ]
  },
  {
   "cell_type": "code",
   "execution_count": 29,
   "metadata": {},
   "outputs": [
    {
     "data": {
      "text/plain": [
       "0             [brexit, isnt, ireland, economic, interest]\n",
       "1       [leave, would, economic, madnessall, hard, wor...\n",
       "2       [brexit, could, prevent, emigration, would, ot...\n",
       "3                        [brexit, britain, leave, europe]\n",
       "4       [leave, eu, artificial, fasttrack, land, milk,...\n",
       "                              ...                        \n",
       "4869    [brexit, divisive, process, fill, huge, enthus...\n",
       "4870    [brexit, trump, boris, johnson, extinction, re...\n",
       "4871                      [brexit, orange, man, bad, etc]\n",
       "4872    [brexit, mark, end, something, also, mark, sta...\n",
       "4873                   [brexit, play, part, doubt, alone]\n",
       "Name: quotation, Length: 4874, dtype: object"
      ]
     },
     "execution_count": 29,
     "metadata": {},
     "output_type": "execute_result"
    }
   ],
   "source": [
    "df_quotes['quotation']"
   ]
  },
  {
   "cell_type": "code",
   "execution_count": 30,
   "metadata": {},
   "outputs": [
    {
     "data": {
      "text/plain": [
       "<AxesSubplot:title={'center':'Comments Polarity'}, ylabel='Frequency'>"
      ]
     },
     "execution_count": 30,
     "metadata": {},
     "output_type": "execute_result"
    },
    {
     "data": {
      "image/png": "[encoded data removed]",
      "text/plain": [
       "<Figure size 432x288 with 1 Axes>"
      ]
     },
     "metadata": {
      "needs_background": "light"
     },
     "output_type": "display_data"
    }
   ],
   "source": [
    "#Get sentiment from comments\n",
    "df_quotes['quotation_sentiment'] = [str(thing) for thing in df_quotes['quotation']]\n",
    "sentiment = []\n",
    "for i in range(len(df_quotes)):\n",
    "    blob = TextBlob(df_quotes['quotation_sentiment'].iloc[i])\n",
    "    for sentence in blob.sentences:\n",
    "        sentiment.append(sentence.sentiment.polarity)\n",
    "        \n",
    "df_quotes['sentiment']=sentiment\n",
    "#Plot\n",
    "df_quotes['sentiment'].plot.hist(color='salmon', title='Comments Polarity')"
   ]
  },
  {
   "cell_type": "code",
   "execution_count": 31,
   "metadata": {},
   "outputs": [
    {
     "data": {
      "text/plain": [
       "0             [brexit, isnt, ireland, economic, interest]\n",
       "1       [leave, would, economic, madnessall, hard, wor...\n",
       "2       [brexit, could, prevent, emigration, would, ot...\n",
       "3                        [brexit, britain, leave, europe]\n",
       "4       [leave, eu, artificial, fasttrack, land, milk,...\n",
       "                              ...                        \n",
       "4869    [brexit, divisive, process, fill, huge, enthus...\n",
       "4870    [brexit, trump, boris, johnson, extinction, re...\n",
       "4871                      [brexit, orange, man, bad, etc]\n",
       "4872    [brexit, mark, end, something, also, mark, sta...\n",
       "4873                   [brexit, play, part, doubt, alone]\n",
       "Name: quotation, Length: 4874, dtype: object"
      ]
     },
     "execution_count": 31,
     "metadata": {},
     "output_type": "execute_result"
    }
   ],
   "source": [
    "df_quotes['quotation']"
   ]
  },
  {
   "cell_type": "code",
   "execution_count": 32,
   "metadata": {},
   "outputs": [
    {
     "data": {
      "text/plain": [
       "count    4874.000000\n",
       "mean        0.040556\n",
       "std         0.234116\n",
       "min        -1.000000\n",
       "25%         0.000000\n",
       "50%         0.000000\n",
       "75%         0.133333\n",
       "max         1.000000\n",
       "Name: sentiment, dtype: float64"
      ]
     },
     "execution_count": 32,
     "metadata": {},
     "output_type": "execute_result"
    }
   ],
   "source": [
    "df_quotes['sentiment'].describe()"
   ]
  },
  {
   "cell_type": "code",
   "execution_count": 33,
   "metadata": {},
   "outputs": [
    {
     "data": {
      "image/png": "[encoded data removed]",
      "text/plain": [
       "<Figure size 432x288 with 1 Axes>"
      ]
     },
     "metadata": {},
     "output_type": "display_data"
    }
   ],
   "source": [
    "supporters = df_quotes.loc[df_quotes['sentiment'] > 0]\n",
    "supporters_percentage = len(supporters.index)/len(df_quotes.index)\n",
    "detractors = df_quotes.loc[df_quotes['sentiment'] < 0]\n",
    "detractors_percentage = len(detractors.index)/len(df_quotes.index)\n",
    "neutral = df_quotes.loc[df_quotes['sentiment'] == 0]\n",
    "neutral_percentage = len(neutral.index)/len(df_quotes.index)\n",
    "# print(\"Percentage of supporters: {0:.2%}\".format(supporters_percentage))\n",
    "# print(\"Percentage of detractors: {0:.2%}\".format(detractors_percentage))\n",
    "# print(\"Percentage of neutral: {0:.2%}\".format(neutral_percentage))\n",
    "# Pie chart, where the slices will be ordered and plotted counter-clockwise:\n",
    "labels = 'Supporters', 'Detractors', 'Neutral'\n",
    "colors = ['#1b9e77', '#d95f02', '#7570b3']\n",
    "sizes = [supporters_percentage, detractors_percentage, neutral_percentage]\n",
    "# explode = (0, 0.1, 0, 0)  # only \"explode\" the 2nd slice (i.e. 'Hogs')\n",
    "\n",
    "fig1, ax1 = plt.subplots()\n",
    "ax1.pie(sizes, labels=labels, colors=colors, autopct='%1.1f%%',\n",
    "        shadow=False, startangle=90)\n",
    "ax1.axis('equal')  # Equal aspect ratio ensures that pie is drawn as a circle.\n",
    "\n",
    "plt.show()"
   ]
  },
  {
   "cell_type": "markdown",
   "metadata": {},
   "source": [
    "#### Q2: What arguments did the members of each category use to support their beliefs? \n"
   ]
  },
  {
   "cell_type": "code",
   "execution_count": 34,
   "metadata": {},
   "outputs": [
    {
     "data": {
      "image/png": "[encoded data removed]",
      "text/plain": [
       "<Figure size 432x288 with 1 Axes>"
      ]
     },
     "metadata": {
      "needs_background": "light"
     },
     "output_type": "display_data"
    },
    {
     "data": {
      "image/png": "[encoded data removed]",
      "text/plain": [
       "<Figure size 720x360 with 1 Axes>"
      ]
     },
     "metadata": {
      "needs_background": "light"
     },
     "output_type": "display_data"
    },
    {
     "ename": "AttributeError",
     "evalue": "'list' object has no attribute 'items'",
     "output_type": "error",
     "traceback": [
      "\u001b[0;31m---------------------------------------------------------------------------\u001b[0m",
      "\u001b[0;31mAttributeError\u001b[0m                            Traceback (most recent call last)",
      "\u001b[0;32m/var/folders/cz/drxl2w614qg049wmqrzy06ww0000gn/T/ipykernel_60615/38352425.py\u001b[0m in \u001b[0;36m<module>\u001b[0;34m\u001b[0m\n\u001b[1;32m     30\u001b[0m \u001b[0mngram_fd\u001b[0m \u001b[0;34m=\u001b[0m \u001b[0mnltk\u001b[0m\u001b[0;34m.\u001b[0m\u001b[0mFreqDist\u001b[0m\u001b[0;34m(\u001b[0m\u001b[0mngrams\u001b[0m\u001b[0;34m)\u001b[0m\u001b[0;34m.\u001b[0m\u001b[0mmost_common\u001b[0m\u001b[0;34m(\u001b[0m\u001b[0;36m20\u001b[0m\u001b[0;34m)\u001b[0m\u001b[0;34m\u001b[0m\u001b[0;34m\u001b[0m\u001b[0m\n\u001b[1;32m     31\u001b[0m \u001b[0;31m## Sort values by highest frequency\u001b[0m\u001b[0;34m\u001b[0m\u001b[0;34m\u001b[0m\u001b[0;34m\u001b[0m\u001b[0m\n\u001b[0;32m---> 32\u001b[0;31m \u001b[0mngram_sorted\u001b[0m \u001b[0;34m=\u001b[0m \u001b[0;34m{\u001b[0m\u001b[0mk\u001b[0m\u001b[0;34m:\u001b[0m\u001b[0mv\u001b[0m \u001b[0;32mfor\u001b[0m \u001b[0mk\u001b[0m\u001b[0;34m,\u001b[0m\u001b[0mv\u001b[0m \u001b[0;32min\u001b[0m \u001b[0msorted\u001b[0m\u001b[0;34m(\u001b[0m\u001b[0mngram_fd\u001b[0m\u001b[0;34m.\u001b[0m\u001b[0mitems\u001b[0m\u001b[0;34m(\u001b[0m\u001b[0;34m)\u001b[0m\u001b[0;34m,\u001b[0m \u001b[0mkey\u001b[0m\u001b[0;34m=\u001b[0m\u001b[0;32mlambda\u001b[0m \u001b[0mitem\u001b[0m\u001b[0;34m:\u001b[0m\u001b[0mitem\u001b[0m\u001b[0;34m[\u001b[0m\u001b[0;36m1\u001b[0m\u001b[0;34m]\u001b[0m\u001b[0;34m,\u001b[0m \u001b[0mreverse\u001b[0m\u001b[0;34m=\u001b[0m\u001b[0mreverse_sort\u001b[0m\u001b[0;34m)\u001b[0m\u001b[0;34m}\u001b[0m\u001b[0;34m\u001b[0m\u001b[0;34m\u001b[0m\u001b[0m\n\u001b[0m\u001b[1;32m     33\u001b[0m \u001b[0;34m\u001b[0m\u001b[0m\n\u001b[1;32m     34\u001b[0m \u001b[0;31m## Join bigram tokens with '_' + maintain sorting\u001b[0m\u001b[0;34m\u001b[0m\u001b[0;34m\u001b[0m\u001b[0;34m\u001b[0m\u001b[0m\n",
      "\u001b[0;31mAttributeError\u001b[0m: 'list' object has no attribute 'items'"
     ]
    }
   ],
   "source": [
    "#From lists of comments to a single list containing all words      \n",
    "all_words=[]        \n",
    "for i in range(len(df_quotes)):\n",
    "    all_words = all_words + df_quotes['quotation'].iloc[i]\n",
    "#Get word frequency        \n",
    "words_1 = nltk.FreqDist(all_words)\n",
    "plot1 = words_1.plot(20, color='salmon', title='Word Frequency')\n",
    "\n",
    "## Creating FreqDist for whole BoW, keeping the 20 most common tokens\n",
    "all_fdist = nltk.FreqDist(all_words).most_common(20)\n",
    "\n",
    "## Conversion to Pandas series via Python Dictionary for easier plotting\n",
    "all_fdist = pd.Series(dict(all_fdist))\n",
    "\n",
    "## Setting figure, ax into variables\n",
    "fig, ax = plt.subplots(figsize=(10,5))\n",
    "\n",
    "## Seaborn plotting using Pandas attributes + xtick rotation for ease of viewing\n",
    "all_plot = sns.barplot(x=all_fdist.index, y=all_fdist.values, ax=ax)\n",
    "plt.xticks(rotation=30);\n",
    "#Bigrams\n",
    "bigrm = list(nltk.bigrams(all_words))\n",
    "words_2 = nltk.FreqDist(bigrm)\n",
    "words_2.plot(20, color='salmon', title='Bigram Frequency')\n",
    "\n",
    "## Generate bigrams\n",
    "ngrams = nltk.bigrams(all_words)\n",
    "\n",
    "## Creating FreqDist\n",
    "ngram_fd = nltk.FreqDist(ngrams).most_common(20)\n",
    "## Sort values by highest frequency\n",
    "ngram_sorted = {k:v for k,v in sorted(ngram_fd.items(), key=lambda item:item[1], reverse=reverse_sort)}\n",
    "\n",
    "## Join bigram tokens with '_' + maintain sorting\n",
    "ngram_joined = {'_'.join(k):v for k,v in sorted(ngram_fd.items(), key=lambda item:item[1], reverse=reverse_sort)}\n",
    "\n",
    "## Convert to Pandas series for easy plotting\n",
    "ngram_freqdist = pd.Series(ngram_joined)\n",
    "\n",
    "## Setting figure & ax for plots\n",
    "fig, ax = plt.subplots(figsize=(10,10))\n",
    "\n",
    "## Setting plot to horizontal for easy viewing + setting title + display  \n",
    "bar_plot = sns.barplot(x=ngram_freqdist.values, y=ngram_freqdist.index, orient='h', ax=ax)\n",
    "plt.title('Frequency Distribution')\n",
    "plt.show();\n",
    "\n",
    "#Trigrams\n",
    "trigrm = list(nltk.trigrams(all_words))\n",
    "words_3 = nltk.FreqDist(trigrm)\n",
    "words_3.plot(20, color='salmon', title='Trigram Frequency')"
   ]
  },
  {
   "cell_type": "code",
   "execution_count": 35,
   "metadata": {},
   "outputs": [],
   "source": [
    "#From lists of detractors quotes to a single list containing all detractors words      \n",
    "detractors_words=[]        \n",
    "for i in range(len(detractors)):\n",
    "    detractors_words = detractors_words + detractors['quotation'].iloc[i]"
   ]
  },
  {
   "cell_type": "code",
   "execution_count": 36,
   "metadata": {},
   "outputs": [],
   "source": [
    "#Get word frequency        \n",
    "words_1 = nltk.FreqDist(detractors_words)"
   ]
  },
  {
   "cell_type": "code",
   "execution_count": 37,
   "metadata": {},
   "outputs": [
    {
     "data": {
      "image/png": "[encoded data removed]",
      "text/plain": [
       "<Figure size 720x720 with 1 Axes>"
      ]
     },
     "metadata": {
      "needs_background": "light"
     },
     "output_type": "display_data"
    },
    {
     "data": {
      "image/png": "[encoded data removed]",
      "text/plain": [
       "<Figure size 432x288 with 1 Axes>"
      ]
     },
     "metadata": {
      "needs_background": "light"
     },
     "output_type": "display_data"
    },
    {
     "data": {
      "text/plain": [
       "<AxesSubplot:title={'center':'Trigram Frequency'}, xlabel='Samples', ylabel='Counts'>"
      ]
     },
     "execution_count": 37,
     "metadata": {},
     "output_type": "execute_result"
    }
   ],
   "source": [
    "all_fdist = words_1.most_common(20)\n",
    "## Conversion to Pandas series via Python Dictionary for easier plotting\n",
    "all_fdist = pd.Series(dict(all_fdist))\n",
    "## Setting figure, ax into variables\n",
    "fig, ax = plt.subplots(figsize=(10,10))\n",
    "## Seaborn plotting using Pandas attributes + xtick rotation for ease of viewing\n",
    "all_plot = sns.barplot(x=all_fdist.index, y=all_fdist.values, ax=ax)\n",
    "plt.xticks(rotation=30);\n",
    "# plot1 = words_1.plot(20, color='salmon', title='Word Frequency')\n",
    "\n",
    "\n",
    "#Bigrams\n",
    "bigrm = list(nltk.bigrams(detractors_words))\n",
    "words_2 = nltk.FreqDist(bigrm)\n",
    "words_2.plot(20, color='salmon', title='Bigram Frequency')\n",
    "#Trigrams\n",
    "trigrm = list(nltk.trigrams(detractors_words))\n",
    "words_3 = nltk.FreqDist(trigrm)\n",
    "words_3.plot(20, color='salmon', title='Trigram Frequency')"
   ]
  },
  {
   "cell_type": "code",
   "execution_count": 38,
   "metadata": {},
   "outputs": [
    {
     "data": {
      "image/png": "[encoded data removed]",
      "text/plain": [
       "<Figure size 720x720 with 1 Axes>"
      ]
     },
     "metadata": {
      "needs_background": "light"
     },
     "output_type": "display_data"
    }
   ],
   "source": [
    "## Creating FreqDist for whole BoW, keeping the 20 most common tokens\n",
    "all_fdist = words_1.most_common(20)\n",
    "\n",
    "## Conversion to Pandas series via Python Dictionary for easier plotting\n",
    "all_fdist = pd.Series(dict(all_fdist))\n",
    "\n",
    "## Setting figure, ax into variables\n",
    "fig, ax = plt.subplots(figsize=(10,10))\n",
    "\n",
    "## Seaborn plotting using Pandas attributes + xtick rotation for ease of viewing\n",
    "all_plot = sns.barplot(x=all_fdist.index, y=all_fdist.values, ax=ax)\n",
    "plt.xticks(rotation=30);"
   ]
  },
  {
   "cell_type": "code",
   "execution_count": 39,
   "metadata": {},
   "outputs": [
    {
     "data": {
      "image/png": "[encoded data removed]",
      "text/plain": [
       "<Figure size 432x288 with 1 Axes>"
      ]
     },
     "metadata": {
      "needs_background": "light"
     },
     "output_type": "display_data"
    },
    {
     "data": {
      "image/png": "[encoded data removed]",
      "text/plain": [
       "<Figure size 432x288 with 1 Axes>"
      ]
     },
     "metadata": {
      "needs_background": "light"
     },
     "output_type": "display_data"
    },
    {
     "data": {
      "image/png": "[encoded data removed]",
      "text/plain": [
       "<Figure size 432x288 with 1 Axes>"
      ]
     },
     "metadata": {
      "needs_background": "light"
     },
     "output_type": "display_data"
    },
    {
     "data": {
      "text/plain": [
       "<AxesSubplot:title={'center':'Trigram Frequency'}, xlabel='Samples', ylabel='Counts'>"
      ]
     },
     "execution_count": 39,
     "metadata": {},
     "output_type": "execute_result"
    }
   ],
   "source": [
    "#From lists of supporters quotes to a single list containing all supporters words      \n",
    "supporters_words=[]        \n",
    "for i in range(len(supporters)):\n",
    "    supporters_words = supporters_words + supporters['quotation'].iloc[i]\n",
    "\n",
    "#Get word frequency        \n",
    "nlp_words = nltk.FreqDist(supporters_words)\n",
    "plot1 = nlp_words.plot(20, color='salmon', title='Word Frequency')\n",
    "#Bigrams\n",
    "bigrm = list(nltk.bigrams(supporters_words))\n",
    "words_2 = nltk.FreqDist(bigrm)\n",
    "words_2.plot(20, color='salmon', title='Bigram Frequency')\n",
    "#Trigrams\n",
    "trigrm = list(nltk.trigrams(supporters_words))\n",
    "words_3 = nltk.FreqDist(trigrm)\n",
    "words_3.plot(20, color='salmon', title='Trigram Frequency')"
   ]
  },
  {
   "cell_type": "code",
   "execution_count": 40,
   "metadata": {},
   "outputs": [
    {
     "data": {
      "text/plain": [
       "[('brexit', 'isnt', 'ireland'),\n",
       " ('isnt', 'ireland', 'economic'),\n",
       " ('ireland', 'economic', 'interest'),\n",
       " ('economic', 'interest', 'leave'),\n",
       " ('interest', 'leave', 'would'),\n",
       " ('leave', 'would', 'economic'),\n",
       " ('would', 'economic', 'madnessall'),\n",
       " ('economic', 'madnessall', 'hard'),\n",
       " ('madnessall', 'hard', 'work'),\n",
       " ('hard', 'work', 'drain'),\n",
       " ('work', 'drain', 'every'),\n",
       " ('drain', 'every', 'time'),\n",
       " ('every', 'time', 'another'),\n",
       " ('time', 'another', 'country'),\n",
       " ('another', 'country', 'join'),\n",
       " ('country', 'join', 'eu'),\n",
       " ('join', 'eu', 'recruit'),\n",
       " ('eu', 'recruit', 'new'),\n",
       " ('recruit', 'new', 'member'),\n",
       " ('new', 'member', 'staff'),\n",
       " ('member', 'staff', 'country'),\n",
       " ('staff', 'country', 'best'),\n",
       " ('country', 'best', 'thing'),\n",
       " ('best', 'thing', 'happen'),\n",
       " ('thing', 'happen', 'pharmaceutical'),\n",
       " ('happen', 'pharmaceutical', 'last'),\n",
       " ('pharmaceutical', 'last', 'decade'),\n",
       " ('last', 'decade', 'addition'),\n",
       " ('decade', 'addition', 'eastern'),\n",
       " ('addition', 'eastern', 'european'),\n",
       " ('eastern', 'european', 'country'),\n",
       " ('european', 'country', 'opportunity'),\n",
       " ('country', 'opportunity', 'trade'),\n",
       " ('opportunity', 'trade', 'larger'),\n",
       " ('trade', 'larger', 'market'),\n",
       " ('larger', 'market', 'source'),\n",
       " ('market', 'source', 'employee'),\n",
       " ('source', 'employee', 'would'),\n",
       " ('employee', 'would', 'struggle'),\n",
       " ('would', 'struggle', 'run'),\n",
       " ('struggle', 'run', 'warehouse'),\n",
       " ('run', 'warehouse', 'distribution'),\n",
       " ('warehouse', 'distribution', 'without'),\n",
       " ('distribution', 'without', 'eastern'),\n",
       " ('without', 'eastern', 'european'),\n",
       " ('eastern', 'european', 'immigrant'),\n",
       " ('european', 'immigrant', 'brexit'),\n",
       " ('immigrant', 'brexit', 'ideal'),\n",
       " ('brexit', 'ideal', 'scenario'),\n",
       " ('ideal', 'scenario', 'anyone'),\n",
       " ('scenario', 'anyone', 'brexit'),\n",
       " ('anyone', 'brexit', 'would'),\n",
       " ('brexit', 'would', 'lead'),\n",
       " ('would', 'lead', 'considerable'),\n",
       " ('lead', 'considerable', 'uncertainty'),\n",
       " ('considerable', 'uncertainty', 'threat'),\n",
       " ('uncertainty', 'threat', 'could'),\n",
       " ('threat', 'could', 'get'),\n",
       " ('could', 'get', 'good'),\n",
       " ('get', 'good', 'exit'),\n",
       " ('good', 'exit', 'term'),\n",
       " ('exit', 'term', 'period'),\n",
       " ('term', 'period', 'year'),\n",
       " ('period', 'year', 'city'),\n",
       " ('year', 'city', 'london'),\n",
       " ('city', 'london', 'smaller'),\n",
       " ('london', 'smaller', 'otherwise'),\n",
       " ('smaller', 'otherwise', 'would'),\n",
       " ('otherwise', 'would', 'brexit'),\n",
       " ('would', 'brexit', 'clearly'),\n",
       " ('brexit', 'clearly', 'get'),\n",
       " ('clearly', 'get', 'potential'),\n",
       " ('get', 'potential', 'curb'),\n",
       " ('potential', 'curb', 'growth'),\n",
       " ('curb', 'growth', 'change'),\n",
       " ('growth', 'change', 'buytolet'),\n",
       " ('change', 'buytolet', 'bring'),\n",
       " ('buytolet', 'bring', 'lot'),\n",
       " ('bring', 'lot', 'transaction'),\n",
       " ('lot', 'transaction', 'forward'),\n",
       " ('transaction', 'forward', 'first'),\n",
       " ('forward', 'first', 'quarter'),\n",
       " ('first', 'quarter', 'year'),\n",
       " ('quarter', 'year', 'chance'),\n",
       " ('year', 'chance', 'soggy'),\n",
       " ('chance', 'soggy', 'growth'),\n",
       " ('soggy', 'growth', 'middle'),\n",
       " ('growth', 'middle', 'quarter'),\n",
       " ('middle', 'quarter', 'leave'),\n",
       " ('quarter', 'leave', 'european'),\n",
       " ('leave', 'european', 'union'),\n",
       " ('european', 'union', 'would'),\n",
       " ('union', 'would', 'total'),\n",
       " ('would', 'total', 'disaster'),\n",
       " ('total', 'disaster', 'agrifood'),\n",
       " ('disaster', 'agrifood', 'industry'),\n",
       " ('agrifood', 'industry', 'particular'),\n",
       " ('industry', 'particular', 'northern'),\n",
       " ('particular', 'northern', 'ireland'),\n",
       " ('northern', 'ireland', 'past'),\n",
       " ('ireland', 'past', 'five'),\n",
       " ('past', 'five', 'year'),\n",
       " ('five', 'year', 'rural'),\n",
       " ('year', 'rural', 'community'),\n",
       " ('rural', 'community', 'benefit'),\n",
       " ('community', 'benefit', 'upwards'),\n",
       " ('benefit', 'upwards', 'million'),\n",
       " ('upwards', 'million', 'europe'),\n",
       " ('million', 'europe', 'havent'),\n",
       " ('europe', 'havent', 'really'),\n",
       " ('havent', 'really', 'exploit'),\n",
       " ('really', 'exploit', 'effectively'),\n",
       " ('exploit', 'effectively', 'range'),\n",
       " ('effectively', 'range', 'eu'),\n",
       " ('range', 'eu', 'fund'),\n",
       " ('eu', 'fund', 'programme'),\n",
       " ('fund', 'programme', 'available'),\n",
       " ('programme', 'available', 'agrifood'),\n",
       " ('available', 'agrifood', 'industry'),\n",
       " ('agrifood', 'industry', 'brexit'),\n",
       " ('industry', 'brexit', 'ireland'),\n",
       " ('brexit', 'ireland', 'economic'),\n",
       " ('ireland', 'economic', 'interest'),\n",
       " ('economic', 'interest', 'leave'),\n",
       " ('interest', 'leave', 'eu'),\n",
       " ('leave', 'eu', 'would'),\n",
       " ('eu', 'would', 'major'),\n",
       " ('would', 'major', 'threat'),\n",
       " ('major', 'threat', 'overall'),\n",
       " ('threat', 'overall', 'international'),\n",
       " ('overall', 'international', 'success'),\n",
       " ('international', 'success', 'uk'),\n",
       " ('success', 'uk', 'sector'),\n",
       " ('uk', 'sector', 'punch'),\n",
       " ('sector', 'punch', 'well'),\n",
       " ('punch', 'well', 'weight'),\n",
       " ('well', 'weight', 'relatively'),\n",
       " ('weight', 'relatively', 'small'),\n",
       " ('relatively', 'small', 'amount'),\n",
       " ('small', 'amount', 'government'),\n",
       " ('amount', 'government', 'fund'),\n",
       " ('government', 'fund', 'compare'),\n",
       " ('fund', 'compare', 'country'),\n",
       " ('compare', 'country', 'leave'),\n",
       " ('country', 'leave', 'eu'),\n",
       " ('leave', 'eu', 'view'),\n",
       " ('eu', 'view', 'rightwing'),\n",
       " ('view', 'rightwing', 'people'),\n",
       " ('rightwing', 'people', 'leave'),\n",
       " ('people', 'leave', 'really'),\n",
       " ('leave', 'really', 'strong'),\n",
       " ('really', 'strong', 'argument'),\n",
       " ('strong', 'argument', 'leave'),\n",
       " ('argument', 'leave', 'leaver'),\n",
       " ('leave', 'leaver', 'spend'),\n",
       " ('leaver', 'spend', 'much'),\n",
       " ('spend', 'much', 'time'),\n",
       " ('much', 'time', 'worry'),\n",
       " ('time', 'worry', 'technicality'),\n",
       " ('worry', 'technicality', 'little'),\n",
       " ('technicality', 'little', 'hone'),\n",
       " ('little', 'hone', 'argument'),\n",
       " ('hone', 'argument', 'present'),\n",
       " ('argument', 'present', 'form'),\n",
       " ('present', 'form', 'withstand'),\n",
       " ('form', 'withstand', 'human'),\n",
       " ('withstand', 'human', 'impulse'),\n",
       " ('human', 'impulse', 'keep'),\n",
       " ('impulse', 'keep', 'briton'),\n",
       " ('keep', 'briton', 'likely'),\n",
       " ('briton', 'likely', 'vote'),\n",
       " ('likely', 'vote', 'leave'),\n",
       " ('vote', 'leave', 'eu'),\n",
       " ('leave', 'eu', 'summer'),\n",
       " ('eu', 'summer', 'begin'),\n",
       " ('summer', 'begin', 'likely'),\n",
       " ('begin', 'likely', 'leave'),\n",
       " ('likely', 'leave', 'eu'),\n",
       " ('leave', 'eu', 'claim'),\n",
       " ('eu', 'claim', 'britain'),\n",
       " ('claim', 'britain', 'best'),\n",
       " ('britain', 'best', 'interest'),\n",
       " ('best', 'interest', 'heart'),\n",
       " ('interest', 'heart', 'tax'),\n",
       " ('heart', 'tax', 'pay'),\n",
       " ('tax', 'pay', 'school'),\n",
       " ('pay', 'school', 'hospital'),\n",
       " ('school', 'hospital', 'truth'),\n",
       " ('hospital', 'truth', 'britain'),\n",
       " ('truth', 'britain', 'better'),\n",
       " ('britain', 'better', 'europe'),\n",
       " ('better', 'europe', 'bring'),\n",
       " ('europe', 'bring', 'u'),\n",
       " ('bring', 'u', 'job'),\n",
       " ('u', 'job', 'growth'),\n",
       " ('job', 'growth', 'investment'),\n",
       " ('growth', 'investment', 'brexit'),\n",
       " ('investment', 'brexit', 'mean'),\n",
       " ('brexit', 'mean', 'u'),\n",
       " ('mean', 'u', 'outwardlooking'),\n",
       " ('u', 'outwardlooking', 'engage'),\n",
       " ('outwardlooking', 'engage', 'energetic'),\n",
       " ('engage', 'energetic', 'enthusiastic'),\n",
       " ('energetic', 'enthusiastic', 'commit'),\n",
       " ('enthusiastic', 'commit', 'world'),\n",
       " ('commit', 'world', 'stage'),\n",
       " ('world', 'stage', 'ever'),\n",
       " ('stage', 'ever', 'leave'),\n",
       " ('ever', 'leave', 'campaigner'),\n",
       " ('leave', 'campaigner', 'tell'),\n",
       " ('campaigner', 'tell', 'u'),\n",
       " ('tell', 'u', 'life'),\n",
       " ('u', 'life', 'outside'),\n",
       " ('life', 'outside', 'eu'),\n",
       " ('outside', 'eu', 'look'),\n",
       " ('eu', 'look', 'like'),\n",
       " ('look', 'like', 'certain'),\n",
       " ('like', 'certain', 'enjoy'),\n",
       " ('certain', 'enjoy', 'good'),\n",
       " ('enjoy', 'good', 'access'),\n",
       " ('good', 'access', 'single'),\n",
       " ('access', 'single', 'market'),\n",
       " ('single', 'market', 'agricultural'),\n",
       " ('market', 'agricultural', 'export'),\n",
       " ('agricultural', 'export', 'currently'),\n",
       " ('export', 'currently', 'divorce'),\n",
       " ('currently', 'divorce', 'europe'),\n",
       " ('divorce', 'europe', 'would'),\n",
       " ('europe', 'would', 'leap'),\n",
       " ('would', 'leap', 'dark'),\n",
       " ('leap', 'dark', 'put'),\n",
       " ('dark', 'put', 'livelihood'),\n",
       " ('put', 'livelihood', 'risk'),\n",
       " ('livelihood', 'risk', 'brexitits'),\n",
       " ('risk', 'brexitits', 'simple'),\n",
       " ('brexitits', 'simple', 'voter'),\n",
       " ('simple', 'voter', 'speak'),\n",
       " ('voter', 'speak', 'say'),\n",
       " ('speak', 'say', 'really'),\n",
       " ('say', 'really', 'alarm'),\n",
       " ('really', 'alarm', 'direction'),\n",
       " ('alarm', 'direction', 'theresa'),\n",
       " ('direction', 'theresa', 'may'),\n",
       " ('theresa', 'may', 'take'),\n",
       " ('may', 'take', 'country'),\n",
       " ('take', 'country', 'want'),\n",
       " ('country', 'want', 'something'),\n",
       " ('want', 'something', 'brexit'),\n",
       " ('something', 'brexit', 'pass'),\n",
       " ('brexit', 'pass', 'outoftouch'),\n",
       " ('pass', 'outoftouch', 'elite'),\n",
       " ('outoftouch', 'elite', 'use'),\n",
       " ('elite', 'use', 'expertise'),\n",
       " ('use', 'expertise', 'counter'),\n",
       " ('expertise', 'counter', 'people'),\n",
       " ('counter', 'people', 'feel'),\n",
       " ('people', 'feel', 'frustration'),\n",
       " ('feel', 'frustration', 'economic'),\n",
       " ('frustration', 'economic', 'pain'),\n",
       " ('economic', 'pain', 'brexit'),\n",
       " ('pain', 'brexit', 'mean'),\n",
       " ('brexit', 'mean', 'brexit'),\n",
       " ('mean', 'brexit', 'go'),\n",
       " ('brexit', 'go', 'make'),\n",
       " ('go', 'make', 'success'),\n",
       " ('make', 'success', 'forge'),\n",
       " ('success', 'forge', 'new'),\n",
       " ('forge', 'new', 'role'),\n",
       " ('new', 'role', 'unite'),\n",
       " ('role', 'unite', 'kingdom'),\n",
       " ('unite', 'kingdom', 'world'),\n",
       " ('kingdom', 'world', 'leave'),\n",
       " ('world', 'leave', 'eu'),\n",
       " ('leave', 'eu', 'would'),\n",
       " ('eu', 'would', 'enable'),\n",
       " ('would', 'enable', 'britain'),\n",
       " ('enable', 'britain', 'perform'),\n",
       " ('britain', 'perform', 'miracle'),\n",
       " ('perform', 'miracle', 'deregulate'),\n",
       " ('miracle', 'deregulate', 'unleash'),\n",
       " ('deregulate', 'unleash', 'magic'),\n",
       " ('unleash', 'magic', 'free'),\n",
       " ('magic', 'free', 'market'),\n",
       " ('free', 'market', 'brexit'),\n",
       " ('market', 'brexit', 'get'),\n",
       " ('brexit', 'get', 'everyone'),\n",
       " ('get', 'everyone', 'talk'),\n",
       " ('everyone', 'talk', 'thats'),\n",
       " ('talk', 'thats', 'sure'),\n",
       " ('thats', 'sure', 'remind'),\n",
       " ('sure', 'remind', 'everyone'),\n",
       " ('remind', 'everyone', 'north'),\n",
       " ('everyone', 'north', 'south'),\n",
       " ('north', 'south', 'trouble'),\n",
       " ('south', 'trouble', 'brexit'),\n",
       " ('trouble', 'brexit', 'mean'),\n",
       " ('brexit', 'mean', 'brexit'),\n",
       " ('mean', 'brexit', 'go'),\n",
       " ('brexit', 'go', 'make'),\n",
       " ('go', 'make', 'success'),\n",
       " ('make', 'success', 'attempt'),\n",
       " ('success', 'attempt', 'remain'),\n",
       " ('attempt', 'remain', 'inside'),\n",
       " ('remain', 'inside', 'eu'),\n",
       " ('inside', 'eu', 'attempt'),\n",
       " ('eu', 'attempt', 'rejoin'),\n",
       " ('attempt', 'rejoin', 'back'),\n",
       " ('rejoin', 'back', 'door'),\n",
       " ('back', 'door', 'second'),\n",
       " ('door', 'second', 'referendum'),\n",
       " ('second', 'referendum', 'country'),\n",
       " ('referendum', 'country', 'vote'),\n",
       " ('country', 'vote', 'leave'),\n",
       " ('vote', 'leave', 'eu'),\n",
       " ('leave', 'eu', 'prime'),\n",
       " ('eu', 'prime', 'minister'),\n",
       " ('prime', 'minister', 'make'),\n",
       " ('minister', 'make', 'sure'),\n",
       " ('make', 'sure', 'leave'),\n",
       " ('sure', 'leave', 'eu'),\n",
       " ('leave', 'eu', 'brexit'),\n",
       " ('eu', 'brexit', 'right'),\n",
       " ('brexit', 'right', 'britain'),\n",
       " ('right', 'britain', 'brexit'),\n",
       " ('britain', 'brexit', 'neither'),\n",
       " ('brexit', 'neither', 'yes'),\n",
       " ('neither', 'yes', 'vote'),\n",
       " ('yes', 'vote', 'vote'),\n",
       " ('vote', 'vote', 'save'),\n",
       " ('vote', 'save', 'eu'),\n",
       " ('save', 'eu', 'major'),\n",
       " ('eu', 'major', 'crisis'),\n",
       " ('major', 'crisis', 'leave'),\n",
       " ('crisis', 'leave', 'eu'),\n",
       " ('leave', 'eu', 'therefore'),\n",
       " ('eu', 'therefore', 'throw'),\n",
       " ('therefore', 'throw', 'full'),\n",
       " ('throw', 'full', 'weight'),\n",
       " ('full', 'weight', 'behind'),\n",
       " ('weight', 'behind', 'andrea'),\n",
       " ('behind', 'andrea', 'particularly'),\n",
       " ('andrea', 'particularly', 'online'),\n",
       " ('particularly', 'online', 'people'),\n",
       " ('online', 'people', 'day'),\n",
       " ('people', 'day', 'visit'),\n",
       " ('day', 'visit', 'website'),\n",
       " ('visit', 'website', 'information'),\n",
       " ('website', 'information', 'brexit'),\n",
       " ('information', 'brexit', 'reach'),\n",
       " ('brexit', 'reach', 'many'),\n",
       " ('reach', 'many', 'twenty'),\n",
       " ('many', 'twenty', 'million'),\n",
       " ('twenty', 'million', 'people'),\n",
       " ('million', 'people', 'week'),\n",
       " ('people', 'week', 'social'),\n",
       " ('week', 'social', 'medium'),\n",
       " ('social', 'medium', 'presence'),\n",
       " ('medium', 'presence', 'bypass'),\n",
       " ('presence', 'bypass', 'print'),\n",
       " ('bypass', 'print', 'broadcast'),\n",
       " ('print', 'broadcast', 'medium'),\n",
       " ('broadcast', 'medium', 'entirely'),\n",
       " ('medium', 'entirely', 'convert'),\n",
       " ('entirely', 'convert', 'countless'),\n",
       " ('convert', 'countless', 'leave'),\n",
       " ('countless', 'leave', 'vote'),\n",
       " ('leave', 'vote', 'referendum'),\n",
       " ('vote', 'referendum', 'expect'),\n",
       " ('referendum', 'expect', 'similar'),\n",
       " ('expect', 'similar', 'impact'),\n",
       " ('similar', 'impact', 'andreas'),\n",
       " ('impact', 'andreas', 'leadership'),\n",
       " ('andreas', 'leadership', 'bid'),\n",
       " ('leadership', 'bid', 'brexit'),\n",
       " ('bid', 'brexit', 'opportunity'),\n",
       " ('brexit', 'opportunity', 'gcc'),\n",
       " ('opportunity', 'gcc', 'see'),\n",
       " ('gcc', 'see', 'even'),\n",
       " ('see', 'even', 'regional'),\n",
       " ('even', 'regional', 'organisation'),\n",
       " ('regional', 'organisation', 'good'),\n",
       " ('organisation', 'good', 'governance'),\n",
       " ('good', 'governance', 'face'),\n",
       " ('governance', 'face', 'problem'),\n",
       " ('face', 'problem', 'resolve'),\n",
       " ('problem', 'resolve', 'national'),\n",
       " ('resolve', 'national', 'level'),\n",
       " ('national', 'level', 'require'),\n",
       " ('level', 'require', 'regional'),\n",
       " ('require', 'regional', 'policy'),\n",
       " ('regional', 'policy', 'coordination'),\n",
       " ('policy', 'coordination', 'brexit'),\n",
       " ('coordination', 'brexit', 'experience'),\n",
       " ('brexit', 'experience', 'likely'),\n",
       " ('experience', 'likely', 'deterrent'),\n",
       " ('likely', 'deterrent', 'gcc'),\n",
       " ('deterrent', 'gcc', 'institutional'),\n",
       " ('gcc', 'institutional', 'integration'),\n",
       " ('institutional', 'integration', 'encourage'),\n",
       " ('integration', 'encourage', 'largely'),\n",
       " ('encourage', 'largely', 'bilateral'),\n",
       " ('largely', 'bilateral', 'support'),\n",
       " ('bilateral', 'support', 'mechanism'),\n",
       " ('support', 'mechanism', 'entrench'),\n",
       " ('mechanism', 'entrench', 'consultative'),\n",
       " ('entrench', 'consultative', 'style'),\n",
       " ('consultative', 'style', 'gulf'),\n",
       " ('style', 'gulf', 'regional'),\n",
       " ('gulf', 'regional', 'organisation'),\n",
       " ('regional', 'organisation', 'future'),\n",
       " ('organisation', 'future', 'gulf'),\n",
       " ('future', 'gulf', 'central'),\n",
       " ('gulf', 'central', 'bank'),\n",
       " ('central', 'bank', 'share'),\n",
       " ('bank', 'share', 'defence'),\n",
       " ('share', 'defence', 'apparatus'),\n",
       " ('defence', 'apparatus', 'start'),\n",
       " ('apparatus', 'start', 'look'),\n",
       " ('start', 'look', 'even'),\n",
       " ('look', 'even', 'le'),\n",
       " ('even', 'le', 'likely'),\n",
       " ('le', 'likely', 'leave'),\n",
       " ('likely', 'leave', 'eu'),\n",
       " ('leave', 'eu', 'unchartered'),\n",
       " ('eu', 'unchartered', 'territory'),\n",
       " ('unchartered', 'territory', 'uk'),\n",
       " ('territory', 'uk', 'vital'),\n",
       " ('uk', 'vital', 'consider'),\n",
       " ('vital', 'consider', 'range'),\n",
       " ('consider', 'range', 'view'),\n",
       " ('range', 'view', 'secure'),\n",
       " ('view', 'secure', 'best'),\n",
       " ('secure', 'best', 'possible'),\n",
       " ('best', 'possible', 'outcome'),\n",
       " ('possible', 'outcome', 'wale'),\n",
       " ('outcome', 'wale', 'brexit'),\n",
       " ('wale', 'brexit', 'could'),\n",
       " ('brexit', 'could', 'begin'),\n",
       " ('could', 'begin', 'destruction'),\n",
       " ('begin', 'destruction', 'eu'),\n",
       " ('destruction', 'eu', 'also'),\n",
       " ('eu', 'also', 'whole'),\n",
       " ('also', 'whole', 'western'),\n",
       " ('whole', 'western', 'political'),\n",
       " ('western', 'political', 'civilisation'),\n",
       " ('political', 'civilisation', 'brexit'),\n",
       " ('civilisation', 'brexit', 'involve'),\n",
       " ('brexit', 'involve', 'many'),\n",
       " ('involve', 'many', 'tradeoff'),\n",
       " ('many', 'tradeoff', 'may'),\n",
       " ('tradeoff', 'may', 'well'),\n",
       " ('may', 'well', 'eu'),\n",
       " ('well', 'eu', 'member'),\n",
       " ('eu', 'member', 'state'),\n",
       " ('member', 'state', 'demand'),\n",
       " ('state', 'demand', 'access'),\n",
       " ('demand', 'access', 'uk'),\n",
       " ('access', 'uk', 'water'),\n",
       " ('uk', 'water', 'fisher'),\n",
       " ('water', 'fisher', 'would'),\n",
       " ('fisher', 'would', 'want'),\n",
       " ('would', 'want', 'return'),\n",
       " ('want', 'return', 'continue'),\n",
       " ('return', 'continue', 'right'),\n",
       " ('continue', 'right', 'sell'),\n",
       " ('right', 'sell', 'fish'),\n",
       " ('sell', 'fish', 'european'),\n",
       " ('fish', 'european', 'market'),\n",
       " ('european', 'market', 'zero'),\n",
       " ('market', 'zero', 'tariff'),\n",
       " ('zero', 'tariff', 'brexit'),\n",
       " ('tariff', 'brexit', 'isnt'),\n",
       " ('brexit', 'isnt', 'make'),\n",
       " ('isnt', 'make', 'best'),\n",
       " ('make', 'best', 'bad'),\n",
       " ('best', 'bad', 'job'),\n",
       " ('bad', 'job', 'brexit'),\n",
       " ('job', 'brexit', 'would'),\n",
       " ('brexit', 'would', 'put'),\n",
       " ('would', 'put', 'risk'),\n",
       " ('put', 'risk', 'allow'),\n",
       " ('risk', 'allow', 'tory'),\n",
       " ('allow', 'tory', 'government'),\n",
       " ('tory', 'government', 'strip'),\n",
       " ('government', 'strip', 'away'),\n",
       " ('strip', 'away', 'protection'),\n",
       " ('away', 'protection', 'woman'),\n",
       " ('protection', 'woman', 'race'),\n",
       " ('woman', 'race', 'bottom'),\n",
       " ('race', 'bottom', 'worker'),\n",
       " ('bottom', 'worker', 'right'),\n",
       " ('worker', 'right', 'brexit'),\n",
       " ('right', 'brexit', 'build'),\n",
       " ('brexit', 'build', 'industry'),\n",
       " ('build', 'industry', 'influence'),\n",
       " ('industry', 'influence', 'nfus'),\n",
       " ('influence', 'nfus', 'aim'),\n",
       " ('nfus', 'aim', 'member'),\n",
       " ('aim', 'member', 'speak'),\n",
       " ('member', 'speak', 'provide'),\n",
       " ('speak', 'provide', 'strong'),\n",
       " ('provide', 'strong', 'unite'),\n",
       " ('strong', 'unite', 'voice'),\n",
       " ('unite', 'voice', 'food'),\n",
       " ('voice', 'food', 'farm'),\n",
       " ('food', 'farm', 'industry'),\n",
       " ('farm', 'industry', 'ensure'),\n",
       " ('industry', 'ensure', 'agriculture'),\n",
       " ('ensure', 'agriculture', 'interest'),\n",
       " ('agriculture', 'interest', 'represent'),\n",
       " ('interest', 'represent', 'trade'),\n",
       " ('represent', 'trade', 'discussion'),\n",
       " ('trade', 'discussion', 'brexit'),\n",
       " ('discussion', 'brexit', 'trump'),\n",
       " ('brexit', 'trump', 'triumph'),\n",
       " ('trump', 'triumph', 'mark'),\n",
       " ('triumph', 'mark', 'revolutionary'),\n",
       " ('mark', 'revolutionary', 'moment'),\n",
       " ('revolutionary', 'moment', 'quite'),\n",
       " ('moment', 'quite', 'certainly'),\n",
       " ('quite', 'certainly', 'thunder'),\n",
       " ('certainly', 'thunder', 'repudiation'),\n",
       " ('thunder', 'repudiation', 'status'),\n",
       " ('repudiation', 'status', 'quo'),\n",
       " ('status', 'quo', 'leave'),\n",
       " ('quo', 'leave', 'eu'),\n",
       " ('leave', 'eu', 'therefore'),\n",
       " ('eu', 'therefore', 'throw'),\n",
       " ('therefore', 'throw', 'full'),\n",
       " ('throw', 'full', 'weight'),\n",
       " ('full', 'weight', 'behind'),\n",
       " ('weight', 'behind', 'andrea'),\n",
       " ('behind', 'andrea', 'particularly'),\n",
       " ('andrea', 'particularly', 'online'),\n",
       " ('particularly', 'online', 'brexit'),\n",
       " ('online', 'brexit', 'give'),\n",
       " ('brexit', 'give', 'everybody'),\n",
       " ('give', 'everybody', 'free'),\n",
       " ('everybody', 'free', 'licence'),\n",
       " ('free', 'licence', 'think'),\n",
       " ('licence', 'think', 'alternative'),\n",
       " ('think', 'alternative', 'brexit'),\n",
       " ('alternative', 'brexit', 'cut'),\n",
       " ('brexit', 'cut', 'head'),\n",
       " ('cut', 'head', 'higher'),\n",
       " ('head', 'higher', 'education'),\n",
       " ('higher', 'education', 'bill'),\n",
       " ('education', 'bill', 'cut'),\n",
       " ('bill', 'cut', 'leg'),\n",
       " ('cut', 'leg', 'brexit'),\n",
       " ('leg', 'brexit', 'would'),\n",
       " ('brexit', 'would', 'damage'),\n",
       " ('would', 'damage', 'time'),\n",
       " ('damage', 'time', 'destroy'),\n",
       " ('time', 'destroy', 'success'),\n",
       " ('destroy', 'success', 'story'),\n",
       " ('success', 'story', 'brexit'),\n",
       " ('story', 'brexit', 'put'),\n",
       " ('brexit', 'put', 'many'),\n",
       " ('put', 'many', 'hardfought'),\n",
       " ('many', 'hardfought', 'right'),\n",
       " ('hardfought', 'right', 'risk'),\n",
       " ('right', 'risk', 'crucial'),\n",
       " ('risk', 'crucial', 'equip'),\n",
       " ('crucial', 'equip', 'right'),\n",
       " ('equip', 'right', 'skill'),\n",
       " ('right', 'skill', 'give'),\n",
       " ('skill', 'give', 'opportunity'),\n",
       " ('give', 'opportunity', 'hold'),\n",
       " ('opportunity', 'hold', 'government'),\n",
       " ('hold', 'government', 'account'),\n",
       " ('government', 'account', 'leave'),\n",
       " ('account', 'leave', 'eu'),\n",
       " ('leave', 'eu', 'new'),\n",
       " ('eu', 'new', 'chapter'),\n",
       " ('new', 'chapter', 'challenge'),\n",
       " ('chapter', 'challenge', 'also'),\n",
       " ('challenge', 'also', 'huge'),\n",
       " ('also', 'huge', 'opportunity'),\n",
       " ('huge', 'opportunity', 'determine'),\n",
       " ('opportunity', 'determine', 'get'),\n",
       " ('determine', 'get', 'best'),\n",
       " ('get', 'best', 'deal'),\n",
       " ('best', 'deal', 'possible'),\n",
       " ('deal', 'possible', 'deliver'),\n",
       " ('possible', 'deliver', 'thrive'),\n",
       " ('deliver', 'thrive', 'future'),\n",
       " ('thrive', 'future', 'important'),\n",
       " ('future', 'important', 'food'),\n",
       " ('important', 'food', 'farm'),\n",
       " ('food', 'farm', 'industry'),\n",
       " ('farm', 'industry', 'profitable'),\n",
       " ('industry', 'profitable', 'innovative'),\n",
       " ('profitable', 'innovative', 'resilient'),\n",
       " ('innovative', 'resilient', 'brexit'),\n",
       " ('resilient', 'brexit', 'start'),\n",
       " ('brexit', 'start', 'change'),\n",
       " ('start', 'change', 'legal'),\n",
       " ('change', 'legal', 'economic'),\n",
       " ('legal', 'economic', 'structure'),\n",
       " ('economic', 'structure', 'simply'),\n",
       " ('structure', 'simply', 'know'),\n",
       " ('simply', 'know', 'uk'),\n",
       " ('know', 'uk', 'future'),\n",
       " ('uk', 'future', 'legal'),\n",
       " ('future', 'legal', 'arrangement'),\n",
       " ('legal', 'arrangement', 'respect'),\n",
       " ('arrangement', 'respect', 'migration'),\n",
       " ('respect', 'migration', 'trade'),\n",
       " ('migration', 'trade', 'investment'),\n",
       " ('trade', 'investment', 'resolve'),\n",
       " ('investment', 'resolve', 'policy'),\n",
       " ('resolve', 'policy', 'rule'),\n",
       " ('policy', 'rule', 'meantime'),\n",
       " ('rule', 'meantime', 'seem'),\n",
       " ('meantime', 'seem', 'like'),\n",
       " ('seem', 'like', 'uncertainty'),\n",
       " ('like', 'uncertainty', 'keynes'),\n",
       " ('uncertainty', 'keynes', 'face'),\n",
       " ('keynes', 'face', 'world'),\n",
       " ('face', 'world', 'economic'),\n",
       " ('world', 'economic', 'order'),\n",
       " ('economic', 'order', 'unclear'),\n",
       " ('order', 'unclear', 'brexit'),\n",
       " ('unclear', 'brexit', 'latest'),\n",
       " ('brexit', 'latest', 'proof'),\n",
       " ('latest', 'proof', 'insularity'),\n",
       " ('proof', 'insularity', 'failure'),\n",
       " ('insularity', 'failure', 'western'),\n",
       " ('failure', 'western', 'establishment'),\n",
       " ('western', 'establishment', 'institution'),\n",
       " ('establishment', 'institution', 'brexit'),\n",
       " ('institution', 'brexit', 'upcoming'),\n",
       " ('brexit', 'upcoming', 'uk'),\n",
       " ('upcoming', 'uk', 'decision'),\n",
       " ('uk', 'decision', 'whether'),\n",
       " ('decision', 'whether', 'leave'),\n",
       " ('whether', 'leave', 'european'),\n",
       " ('leave', 'european', 'union'),\n",
       " ('european', 'union', 'something'),\n",
       " ('union', 'something', 'discuss'),\n",
       " ('something', 'discuss', 'think'),\n",
       " ('discuss', 'think', 'fair'),\n",
       " ('think', 'fair', 'say'),\n",
       " ('fair', 'say', 'one'),\n",
       " ('say', 'one', 'factor'),\n",
       " ('one', 'factor', 'factor'),\n",
       " ('factor', 'factor', 'today'),\n",
       " ('factor', 'today', 'decision'),\n",
       " ('today', 'decision', 'decision'),\n",
       " ('decision', 'decision', 'could'),\n",
       " ('decision', 'could', 'consequence'),\n",
       " ('could', 'consequence', 'economic'),\n",
       " ('consequence', 'economic', 'financial'),\n",
       " ('economic', 'financial', 'condition'),\n",
       " ('financial', 'condition', 'global'),\n",
       " ('condition', 'global', 'financial'),\n",
       " ('global', 'financial', 'market'),\n",
       " ('financial', 'market', 'could'),\n",
       " ('market', 'could', 'consequence'),\n",
       " ('could', 'consequence', 'turn'),\n",
       " ('consequence', 'turn', 'u'),\n",
       " ('turn', 'u', 'economic'),\n",
       " ('u', 'economic', 'outlook'),\n",
       " ('economic', 'outlook', 'would'),\n",
       " ('outlook', 'would', 'factor'),\n",
       " ('would', 'factor', 'decide'),\n",
       " ('factor', 'decide', 'appropriate'),\n",
       " ('decide', 'appropriate', 'path'),\n",
       " ('appropriate', 'path', 'policy'),\n",
       " ('path', 'policy', 'brexit'),\n",
       " ('policy', 'brexit', 'mean'),\n",
       " ('brexit', 'mean', 'brexit'),\n",
       " ('mean', 'brexit', 'firmly'),\n",
       " ('brexit', 'firmly', 'believe'),\n",
       " ('firmly', 'believe', 'make'),\n",
       " ('believe', 'make', 'success'),\n",
       " ('make', 'success', 'uk'),\n",
       " ('success', 'uk', 'european'),\n",
       " ('uk', 'european', 'partner'),\n",
       " ('european', 'partner', 'continue'),\n",
       " ('partner', 'continue', 'work'),\n",
       " ('continue', 'work', 'together'),\n",
       " ('work', 'together', 'keep'),\n",
       " ('together', 'keep', 'people'),\n",
       " ('keep', 'people', 'safe'),\n",
       " ('people', 'safe', 'stand'),\n",
       " ('safe', 'stand', 'value'),\n",
       " ('stand', 'value', 'around'),\n",
       " ('value', 'around', 'world'),\n",
       " ('around', 'world', 'brexit'),\n",
       " ('world', 'brexit', 'mean'),\n",
       " ('brexit', 'mean', 'brexit'),\n",
       " ('mean', 'brexit', 'go'),\n",
       " ('brexit', 'go', 'make'),\n",
       " ('go', 'make', 'success'),\n",
       " ('make', 'success', 'need'),\n",
       " ('success', 'need', 'unite'),\n",
       " ('need', 'unite', 'country'),\n",
       " ('unite', 'country', 'go'),\n",
       " ('country', 'go', 'give'),\n",
       " ('go', 'give', 'people'),\n",
       " ('give', 'people', 'control'),\n",
       " ('people', 'control', 'life'),\n",
       " ('control', 'life', 'build'),\n",
       " ('life', 'build', 'better'),\n",
       " ('build', 'better', 'britain'),\n",
       " ('better', 'britain', 'brexit'),\n",
       " ('britain', 'brexit', 'slap'),\n",
       " ('brexit', 'slap', 'face'),\n",
       " ('slap', 'face', 'new'),\n",
       " ('face', 'new', 'excite'),\n",
       " ('new', 'excite', 'era'),\n",
       " ('excite', 'era', 'technology'),\n",
       " ('era', 'technology', 'witness'),\n",
       " ('technology', 'witness', 'develop'),\n",
       " ('witness', 'develop', 'europe'),\n",
       " ('develop', 'europe', 'brexit'),\n",
       " ('europe', 'brexit', 'mean'),\n",
       " ('brexit', 'mean', 'brexit'),\n",
       " ('mean', 'brexit', 'make'),\n",
       " ('brexit', 'make', 'success'),\n",
       " ('make', 'success', 'clear'),\n",
       " ('success', 'clear', 'northern'),\n",
       " ('clear', 'northern', 'ireland'),\n",
       " ('northern', 'ireland', 'executive'),\n",
       " ('ireland', 'executive', 'devolve'),\n",
       " ('executive', 'devolve', 'government'),\n",
       " ('devolve', 'government', 'involve'),\n",
       " ('government', 'involve', 'discussion'),\n",
       " ('involve', 'discussion', 'set'),\n",
       " ('discussion', 'set', 'forward'),\n",
       " ('set', 'forward', 'uk'),\n",
       " ('forward', 'uk', 'position'),\n",
       " ('uk', 'position', 'brexit'),\n",
       " ('position', 'brexit', 'uncertainty'),\n",
       " ('brexit', 'uncertainty', 'alone'),\n",
       " ('uncertainty', 'alone', 'enough'),\n",
       " ('alone', 'enough', 'derail'),\n",
       " ('enough', 'derail', 'uk'),\n",
       " ('derail', 'uk', 'house'),\n",
       " ('uk', 'house', 'market'),\n",
       " ('house', 'market', 'june'),\n",
       " ('market', 'june', 'price'),\n",
       " ('june', 'price', 'continue'),\n",
       " ('price', 'continue', 'rise'),\n",
       " ('continue', 'rise', 'steadily'),\n",
       " ('rise', 'steadily', 'high'),\n",
       " ('steadily', 'high', 'demand'),\n",
       " ('high', 'demand', 'drive'),\n",
       " ('demand', 'drive', 'uplift'),\n",
       " ('drive', 'uplift', 'price'),\n",
       " ('uplift', 'price', 'mortgage'),\n",
       " ('price', 'mortgage', 'lend'),\n",
       " ('mortgage', 'lend', 'volume'),\n",
       " ('lend', 'volume', 'jump'),\n",
       " ('volume', 'jump', 'june'),\n",
       " ('jump', 'june', 'alone'),\n",
       " ('june', 'alone', 'brexit'),\n",
       " ('alone', 'brexit', 'great'),\n",
       " ('brexit', 'great', 'example'),\n",
       " ('great', 'example', 'complete'),\n",
       " ('example', 'complete', 'loss'),\n",
       " ('complete', 'loss', 'love'),\n",
       " ('loss', 'love', 'mainstream'),\n",
       " ('love', 'mainstream', 'political'),\n",
       " ('mainstream', 'political', 'leadership'),\n",
       " ('political', 'leadership', 'britain'),\n",
       " ('leadership', 'britain', 'leave'),\n",
       " ('britain', 'leave', 'eu'),\n",
       " ('leave', 'eu', 'would'),\n",
       " ('eu', 'would', 'leap'),\n",
       " ('would', 'leap', 'dark'),\n",
       " ('leap', 'dark', 'great'),\n",
       " ('dark', 'great', 'british'),\n",
       " ('great', 'british', 'food'),\n",
       " ('british', 'food', 'drink'),\n",
       " ('food', 'drink', 'industry'),\n",
       " ('drink', 'industry', 'could'),\n",
       " ('industry', 'could', 'lead'),\n",
       " ('could', 'lead', 'year'),\n",
       " ('lead', 'year', 'negotiation'),\n",
       " ('year', 'negotiation', 'new'),\n",
       " ('negotiation', 'new', 'trade'),\n",
       " ('new', 'trade', 'dealswith'),\n",
       " ('trade', 'dealswith', 'guarantee'),\n",
       " ('dealswith', 'guarantee', 'end'),\n",
       " ('guarantee', 'end', 'brexit'),\n",
       " ('end', 'brexit', 'brexit'),\n",
       " ('brexit', 'brexit', 'high'),\n",
       " ('brexit', 'high', 'end'),\n",
       " ('high', 'end', 'london'),\n",
       " ('end', 'london', 'market'),\n",
       " ('london', 'market', 'go'),\n",
       " ('market', 'go', 'major'),\n",
       " ('go', 'major', 'correction'),\n",
       " ('major', 'correction', 'thats'),\n",
       " ('correction', 'thats', 'go'),\n",
       " ('thats', 'go', 'happen'),\n",
       " ('go', 'happen', 'leave'),\n",
       " ('happen', 'leave', 'european'),\n",
       " ('leave', 'european', 'union'),\n",
       " ('european', 'union', 'would'),\n",
       " ('union', 'would', 'think'),\n",
       " ('would', 'think', 'welcome'),\n",
       " ('think', 'welcome', 'either'),\n",
       " ('welcome', 'either', 'moscow'),\n",
       " ('either', 'moscow', 'daesh'),\n",
       " ('moscow', 'daesh', 'raqqa'),\n",
       " ('daesh', 'raqqa', 'brexit'),\n",
       " ('raqqa', 'brexit', 'wake'),\n",
       " ('brexit', 'wake', 'nightmare'),\n",
       " ('wake', 'nightmare', 'u'),\n",
       " ('nightmare', 'u', 'many'),\n",
       " ('u', 'many', 'way'),\n",
       " ('many', 'way', 'considerable'),\n",
       " ('way', 'considerable', 'amount'),\n",
       " ('considerable', 'amount', 'eu'),\n",
       " ('amount', 'eu', 'money'),\n",
       " ('eu', 'money', 'go'),\n",
       " ('money', 'go', 'towards'),\n",
       " ('go', 'towards', 'invest'),\n",
       " ('towards', 'invest', 'infrastructure'),\n",
       " ('invest', 'infrastructure', 'support'),\n",
       " ('infrastructure', 'support', 'seafood'),\n",
       " ('support', 'seafood', 'industry'),\n",
       " ('seafood', 'industry', 'exit'),\n",
       " ('industry', 'exit', 'eu'),\n",
       " ('exit', 'eu', 'would'),\n",
       " ('eu', 'would', 'reverse'),\n",
       " ('would', 'reverse', 'trend'),\n",
       " ('reverse', 'trend', 'toward'),\n",
       " ('trend', 'toward', 'greater'),\n",
       " ('toward', 'greater', 'global'),\n",
       " ('greater', 'global', 'trade'),\n",
       " ('global', 'trade', 'investment'),\n",
       " ('trade', 'investment', 'job'),\n",
       " ('investment', 'job', 'create'),\n",
       " ('job', 'create', 'serious'),\n",
       " ('create', 'serious', 'risk'),\n",
       " ('serious', 'risk', 'growth'),\n",
       " ('risk', 'growth', 'brexit'),\n",
       " ('growth', 'brexit', 'uk'),\n",
       " ('brexit', 'uk', 'new'),\n",
       " ('uk', 'new', 'reality'),\n",
       " ('new', 'reality', 'first'),\n",
       " ('reality', 'first', 'chapter'),\n",
       " ('first', 'chapter', 'much'),\n",
       " ('chapter', 'much', 'bigger'),\n",
       " ('much', 'bigger', 'story'),\n",
       " ('bigger', 'story', 'may'),\n",
       " ('story', 'may', 'go'),\n",
       " ('may', 'go', 'year'),\n",
       " ('go', 'year', 'brexit'),\n",
       " ('year', 'brexit', 'give'),\n",
       " ('brexit', 'give', 'u'),\n",
       " ('give', 'u', 'many'),\n",
       " ('u', 'many', 'tool'),\n",
       " ('many', 'tool', 'deal'),\n",
       " ('tool', 'deal', 'serious'),\n",
       " ('deal', 'serious', 'economic'),\n",
       " ('serious', 'economic', 'challenge'),\n",
       " ('economic', 'challenge', 'country'),\n",
       " ('challenge', 'country', 'face'),\n",
       " ('country', 'face', 'come'),\n",
       " ('face', 'come', 'decade'),\n",
       " ('come', 'decade', 'brexit'),\n",
       " ('decade', 'brexit', 'could'),\n",
       " ('brexit', 'could', 'potentially'),\n",
       " ('could', 'potentially', 'represent'),\n",
       " ('potentially', 'represent', 'great'),\n",
       " ('represent', 'great', 'risk'),\n",
       " ('great', 'risk', 'great'),\n",
       " ('risk', 'great', 'opportunity'),\n",
       " ('great', 'opportunity', 'eu'),\n",
       " ('opportunity', 'eu', 'britain'),\n",
       " ('eu', 'britain', 'brexit'),\n",
       " ('britain', 'brexit', 'particular'),\n",
       " ('brexit', 'particular', 'present'),\n",
       " ('particular', 'present', 'u'),\n",
       " ('present', 'u', 'farreaching'),\n",
       " ('u', 'farreaching', 'ongoing'),\n",
       " ('farreaching', 'ongoing', 'structural'),\n",
       " ('ongoing', 'structural', 'implication'),\n",
       " ('structural', 'implication', 'brexit'),\n",
       " ('implication', 'brexit', 'significant'),\n",
       " ('brexit', 'significant', 'economic'),\n",
       " ('significant', 'economic', 'event'),\n",
       " ('economic', 'event', 'leave'),\n",
       " ('event', 'leave', 'europe'),\n",
       " ('leave', 'europe', 'would'),\n",
       " ('europe', 'would', 'threaten'),\n",
       " ('would', 'threaten', 'economic'),\n",
       " ('threaten', 'economic', 'national'),\n",
       " ('economic', 'national', 'security'),\n",
       " ('national', 'security', 'choice'),\n",
       " ('security', 'choice', 'hand'),\n",
       " ('choice', 'hand', 'recommendation'),\n",
       " ('hand', 'recommendation', 'clear'),\n",
       " ('recommendation', 'clear', 'believe'),\n",
       " ('clear', 'believe', 'britain'),\n",
       " ('believe', 'britain', 'safer'),\n",
       " ('britain', 'safer', 'stronger'),\n",
       " ('safer', 'stronger', 'better'),\n",
       " ('stronger', 'better', 'reform'),\n",
       " ('better', 'reform', 'european'),\n",
       " ('reform', 'european', 'union'),\n",
       " ('european', 'union', 'brexit'),\n",
       " ('union', 'brexit', 'immediate'),\n",
       " ('brexit', 'immediate', 'legal'),\n",
       " ('immediate', 'legal', 'consequence'),\n",
       " ('legal', 'consequence', 'brexit'),\n",
       " ('consequence', 'brexit', 'also'),\n",
       " ('brexit', 'also', 'introduce'),\n",
       " ('also', 'introduce', 'significant'),\n",
       " ('introduce', 'significant', 'uncertainty'),\n",
       " ('significant', 'uncertainty', 'never'),\n",
       " ('uncertainty', 'never', 'good'),\n",
       " ('never', 'good', 'business'),\n",
       " ('good', 'business', 'sentiment'),\n",
       " ('business', 'sentiment', 'economic'),\n",
       " ('sentiment', 'economic', 'prognosticator'),\n",
       " ('economic', 'prognosticator', 'expect'),\n",
       " ('prognosticator', 'expect', 'economic'),\n",
       " ('expect', 'economic', 'slowdown'),\n",
       " ('economic', 'slowdown', 'europe'),\n",
       " ('slowdown', 'europe', 'beyond'),\n",
       " ('europe', 'beyond', 'earlyt'),\n",
       " ('beyond', 'earlyt', 'know'),\n",
       " ('earlyt', 'know', 'broader'),\n",
       " ('know', 'broader', 'longerterm'),\n",
       " ('broader', 'longerterm', 'implication'),\n",
       " ('longerterm', 'implication', 'brexit'),\n",
       " ('implication', 'brexit', 'business'),\n",
       " ('brexit', 'business', 'brexit'),\n",
       " ('business', 'brexit', 'mean'),\n",
       " ('brexit', 'mean', 'loss'),\n",
       " ('mean', 'loss', 'medium'),\n",
       " ('loss', 'medium', 'fund'),\n",
       " ('medium', 'fund', 'eu'),\n",
       " ('fund', 'eu', 'creative'),\n",
       " ('eu', 'creative', 'documentary'),\n",
       " ('creative', 'documentary', 'loss'),\n",
       " ('documentary', 'loss', 'financial'),\n",
       " ('loss', 'financial', 'support'),\n",
       " ('financial', 'support', 'attend'),\n",
       " ('support', 'attend', 'key'),\n",
       " ('attend', 'key', 'market'),\n",
       " ('key', 'market', 'brexit'),\n",
       " ('market', 'brexit', 'dislocate'),\n",
       " ('brexit', 'dislocate', 'trade'),\n",
       " ('dislocate', 'trade', 'relationship'),\n",
       " ('trade', 'relationship', 'derail'),\n",
       " ('relationship', 'derail', 'economic'),\n",
       " ('derail', 'economic', 'growth'),\n",
       " ('economic', 'growth', 'brexit'),\n",
       " ('growth', 'brexit', 'impact'),\n",
       " ('brexit', 'impact', 'short'),\n",
       " ('impact', 'short', 'term'),\n",
       " ('short', 'term', 'top'),\n",
       " ('term', 'top', 'end'),\n",
       " ('top', 'end', 'market'),\n",
       " ('end', 'market', 'overheat'),\n",
       " ('market', 'overheat', 'two'),\n",
       " ('overheat', 'two', 'year'),\n",
       " ('two', 'year', 'ago'),\n",
       " ('year', 'ago', 'brexit'),\n",
       " ('ago', 'brexit', 'brexit'),\n",
       " ('brexit', 'brexit', 'high'),\n",
       " ('brexit', 'high', 'end'),\n",
       " ('high', 'end', 'london'),\n",
       " ('end', 'london', 'market'),\n",
       " ('london', 'market', 'go'),\n",
       " ('market', 'go', 'major'),\n",
       " ('go', 'major', 'correction'),\n",
       " ('major', 'correction', 'thats'),\n",
       " ('correction', 'thats', 'go'),\n",
       " ('thats', 'go', 'happen'),\n",
       " ('go', 'happen', 'brexit'),\n",
       " ('happen', 'brexit', 'risk'),\n",
       " ('brexit', 'risk', 'eu'),\n",
       " ('risk', 'eu', 'uk'),\n",
       " ('eu', 'uk', 'im'),\n",
       " ('uk', 'im', 'positive'),\n",
       " ('im', 'positive', 'confident'),\n",
       " ('positive', 'confident', 'business'),\n",
       " ('confident', 'business', 'prospect'),\n",
       " ('business', 'prospect', 'brexit'),\n",
       " ('prospect', 'brexit', 'event'),\n",
       " ('brexit', 'event', 'deep'),\n",
       " ('event', 'deep', 'break'),\n",
       " ('deep', 'break', 'eu'),\n",
       " ('break', 'eu', 'history'),\n",
       " ('eu', 'history', 'integration'),\n",
       " ('history', 'integration', 'important'),\n",
       " ('integration', 'important', 'find'),\n",
       " ('important', 'find', 'careful'),\n",
       " ('find', 'careful', 'answer'),\n",
       " ('careful', 'answer', 'must'),\n",
       " ('answer', 'must', 'face'),\n",
       " ...]"
      ]
     },
     "execution_count": 40,
     "metadata": {},
     "output_type": "execute_result"
    }
   ],
   "source": [
    "trigrm"
   ]
  },
  {
   "cell_type": "markdown",
   "metadata": {},
   "source": [
    "#### Q3: Who were the main supporters of each of the categories? Analyze them according to age, gender, occupation, ...\n"
   ]
  },
  {
   "cell_type": "code",
   "execution_count": 41,
   "metadata": {},
   "outputs": [
    {
     "data": {
      "text/plain": [
       "5           Victor Ponta\n",
       "25         Emma Reynolds\n",
       "133     Christian Felber\n",
       "169     Timothy Kirkhope\n",
       "215         David Zaslav\n",
       "              ...       \n",
       "4399       David Trimble\n",
       "4473       Robert Halfon\n",
       "4558      Denis MacShane\n",
       "4574      Sheryll Murray\n",
       "4615        Jan Zahradil\n",
       "Name: speaker, Length: 111, dtype: object"
      ]
     },
     "execution_count": 41,
     "metadata": {},
     "output_type": "execute_result"
    }
   ],
   "source": [
    "strong_supporters_name = supporters['speaker'].loc[supporters['sentiment']>0.5].drop_duplicates()\n",
    "strong_supporters_name"
   ]
  },
  {
   "cell_type": "code",
   "execution_count": 42,
   "metadata": {},
   "outputs": [
    {
     "data": {
      "text/plain": [
       "4                 Chris Mason\n",
       "11            Thomas Lundberg\n",
       "132                Chris Bell\n",
       "337             Charles Grant\n",
       "472     Jaap de Hoop Scheffer\n",
       "                ...          \n",
       "4484             Michael Kent\n",
       "4495        Michael Heseltine\n",
       "4600              Glyn Davies\n",
       "4797                 Sir John\n",
       "4871              Stewart Lee\n",
       "Name: speaker, Length: 81, dtype: object"
      ]
     },
     "execution_count": 42,
     "metadata": {},
     "output_type": "execute_result"
    }
   ],
   "source": [
    "strong_detractors_name = detractors['speaker'].loc[detractors['sentiment']<-0.5].drop_duplicates()\n",
    "strong_detractors_name"
   ]
  },
  {
   "cell_type": "markdown",
   "metadata": {},
   "source": [
    "#### Q4: How did the opinion towards Brexit change during the 5 year span? Did the arguments of each group also change?"
   ]
  },
  {
   "cell_type": "code",
   "execution_count": null,
   "metadata": {},
   "outputs": [],
   "source": []
  },
  {
   "cell_type": "markdown",
   "metadata": {},
   "source": [
    "## 3.5. Modeling\n"
   ]
  },
  {
   "cell_type": "code",
   "execution_count": null,
   "metadata": {},
   "outputs": [],
   "source": []
  },
  {
   "cell_type": "code",
   "execution_count": null,
   "metadata": {},
   "outputs": [],
   "source": []
  },
  {
   "cell_type": "markdown",
   "metadata": {},
   "source": [
    "## 3.6. Interpreting our data"
   ]
  },
  {
   "cell_type": "code",
   "execution_count": null,
   "metadata": {},
   "outputs": [],
   "source": []
  },
  {
   "cell_type": "code",
   "execution_count": null,
   "metadata": {},
   "outputs": [],
   "source": []
  },
  {
   "cell_type": "code",
   "execution_count": null,
   "metadata": {},
   "outputs": [],
   "source": []
  },
  {
   "cell_type": "markdown",
   "metadata": {},
   "source": [
    "## 3.7. Storytelling and communication"
   ]
  },
  {
   "cell_type": "markdown",
   "metadata": {},
   "source": [
    "### Plan for storytelling and communication"
   ]
  },
  {
   "cell_type": "code",
   "execution_count": 43,
   "metadata": {},
   "outputs": [],
   "source": [
    "# Various choices of communication that we thought about but discarded\n"
   ]
  },
  {
   "cell_type": "code",
   "execution_count": 44,
   "metadata": {},
   "outputs": [],
   "source": [
    "# Final good choice for communication. Has to be reasonable and sound.\n"
   ]
  },
  {
   "cell_type": "markdown",
   "metadata": {},
   "source": [
    "---"
   ]
  },
  {
   "cell_type": "markdown",
   "metadata": {},
   "source": [
    "# 4. Conclusions"
   ]
  },
  {
   "cell_type": "markdown",
   "metadata": {},
   "source": [
    "### 4.1. Summary of the notebook\n"
   ]
  },
  {
   "cell_type": "code",
   "execution_count": null,
   "metadata": {},
   "outputs": [],
   "source": []
  },
  {
   "cell_type": "code",
   "execution_count": null,
   "metadata": {},
   "outputs": [],
   "source": []
  },
  {
   "cell_type": "markdown",
   "metadata": {},
   "source": [
    "### 4.2. Results obtained\n"
   ]
  },
  {
   "cell_type": "code",
   "execution_count": null,
   "metadata": {},
   "outputs": [],
   "source": []
  },
  {
   "cell_type": "code",
   "execution_count": null,
   "metadata": {},
   "outputs": [],
   "source": []
  },
  {
   "cell_type": "markdown",
   "metadata": {},
   "source": [
    "### 4.3. Problems encountered"
   ]
  },
  {
   "cell_type": "code",
   "execution_count": null,
   "metadata": {},
   "outputs": [],
   "source": []
  },
  {
   "cell_type": "code",
   "execution_count": null,
   "metadata": {},
   "outputs": [],
   "source": []
  },
  {
   "cell_type": "markdown",
   "metadata": {},
   "source": [
    "---"
   ]
  },
  {
   "cell_type": "markdown",
   "metadata": {},
   "source": [
    "# 5. Future lines"
   ]
  },
  {
   "cell_type": "code",
   "execution_count": null,
   "metadata": {},
   "outputs": [],
   "source": []
  },
  {
   "cell_type": "code",
   "execution_count": null,
   "metadata": {},
   "outputs": [],
   "source": []
  }
 ],
 "metadata": {
  "interpreter": {
   "hash": "df53b5b5475feb44dcd1077005bba4b42770bdc1a2344d7322952613d1d933e8"
  },
  "kernelspec": {
   "display_name": "Python 3",
   "language": "python",
   "name": "python3"
  },
  "language_info": {
   "codemirror_mode": {
    "name": "ipython",
    "version": 3
   },
   "file_extension": ".py",
   "mimetype": "text/x-python",
   "name": "python",
   "nbconvert_exporter": "python",
   "pygments_lexer": "ipython3",
   "version": "3.8.5"
  }
 },
 "nbformat": 4,
 "nbformat_minor": 4
}
